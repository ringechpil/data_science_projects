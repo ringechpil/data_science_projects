{
 "cells": [
  {
   "cell_type": "markdown",
   "metadata": {},
   "source": [
    "# Data Manipulation of LEGO Dataset"
   ]
  },
  {
   "cell_type": "markdown",
   "metadata": {},
   "source": [
    "## Overview\n",
    "\n",
    "In this project we will load the various tables from the [Rebrickable](https://rebrickable.com/) website and perform analysis on the data.  Rebrickable is a fantastic website that is used to show which LEGO sets we can build from the sets and parts we already own.  They will even show which parts we are missing to complete the new set and suggest sets that we could purchase to get those parts.  \n",
    "\n",
    "## Data\n",
    "\n",
    "The data has been downloaded directly from their website. \n",
    "\n",
    "\n",
    "Let's start out by importing some standard imports."
   ]
  },
  {
   "cell_type": "code",
   "execution_count": 1,
   "metadata": {},
   "outputs": [],
   "source": [
    "# common imports\n",
    "import pandas as pd\n",
    "import numpy as np\n",
    "\n",
    "pd.set_option('display.max_columns', None)"
   ]
  },
  {
   "cell_type": "markdown",
   "metadata": {},
   "source": [
    "## Import Data\n",
    "\n",
    "Load the various Lego datasets below calling them the same as the name of the table as seen in the schema from the site."
   ]
  },
  {
   "cell_type": "code",
   "execution_count": 2,
   "metadata": {},
   "outputs": [],
   "source": [
    "# import Lego data sets here\n",
    "inventories = pd.read_csv('inventories.csv')\n",
    "inventory_sets = pd.read_csv('inventory_sets.csv')\n",
    "sets = pd.read_csv('sets.csv')\n",
    "themes = pd.read_csv('themes.csv')\n",
    "inventory_minifigs = pd.read_csv('inventory_minifigs.csv')\n",
    "minifigs = pd.read_csv('minifigs.csv')\n",
    "inventory_parts = pd.read_csv('inventory_parts.csv')\n",
    "part_categories = pd.read_csv('part_categories.csv')\n",
    "parts = pd.read_csv('parts.csv')\n",
    "colors = pd.read_csv('colors.csv')\n",
    "part_relationships = pd.read_csv('part_relationships.csv')\n",
    "elements = pd.read_csv('elements.csv')"
   ]
  },
  {
   "cell_type": "markdown",
   "metadata": {},
   "source": [
    "## Exploration"
   ]
  },
  {
   "cell_type": "markdown",
   "metadata": {},
   "source": [
    "Take time to look at all of the data sets using `.head()`, `.info()`, `.describe()`, etc to familiarize with the data sets."
   ]
  },
  {
   "cell_type": "code",
   "execution_count": 3,
   "metadata": {},
   "outputs": [
    {
     "data": {
      "text/html": [
       "<div>\n",
       "<style scoped>\n",
       "    .dataframe tbody tr th:only-of-type {\n",
       "        vertical-align: middle;\n",
       "    }\n",
       "\n",
       "    .dataframe tbody tr th {\n",
       "        vertical-align: top;\n",
       "    }\n",
       "\n",
       "    .dataframe thead th {\n",
       "        text-align: right;\n",
       "    }\n",
       "</style>\n",
       "<table border=\"1\" class=\"dataframe\">\n",
       "  <thead>\n",
       "    <tr style=\"text-align: right;\">\n",
       "      <th></th>\n",
       "      <th>id</th>\n",
       "      <th>name</th>\n",
       "      <th>parent_id</th>\n",
       "    </tr>\n",
       "  </thead>\n",
       "  <tbody>\n",
       "    <tr>\n",
       "      <th>0</th>\n",
       "      <td>1</td>\n",
       "      <td>Technic</td>\n",
       "      <td>NaN</td>\n",
       "    </tr>\n",
       "    <tr>\n",
       "      <th>1</th>\n",
       "      <td>3</td>\n",
       "      <td>Competition</td>\n",
       "      <td>1.0</td>\n",
       "    </tr>\n",
       "    <tr>\n",
       "      <th>2</th>\n",
       "      <td>4</td>\n",
       "      <td>Expert Builder</td>\n",
       "      <td>1.0</td>\n",
       "    </tr>\n",
       "    <tr>\n",
       "      <th>3</th>\n",
       "      <td>16</td>\n",
       "      <td>RoboRiders</td>\n",
       "      <td>1.0</td>\n",
       "    </tr>\n",
       "    <tr>\n",
       "      <th>4</th>\n",
       "      <td>17</td>\n",
       "      <td>Speed Slammers</td>\n",
       "      <td>1.0</td>\n",
       "    </tr>\n",
       "  </tbody>\n",
       "</table>\n",
       "</div>"
      ],
      "text/plain": [
       "   id            name  parent_id\n",
       "0   1         Technic        NaN\n",
       "1   3     Competition        1.0\n",
       "2   4  Expert Builder        1.0\n",
       "3  16      RoboRiders        1.0\n",
       "4  17  Speed Slammers        1.0"
      ]
     },
     "execution_count": 3,
     "metadata": {},
     "output_type": "execute_result"
    }
   ],
   "source": [
    "themes.head()"
   ]
  },
  {
   "cell_type": "code",
   "execution_count": 4,
   "metadata": {},
   "outputs": [
    {
     "name": "stdout",
     "output_type": "stream",
     "text": [
      "<class 'pandas.core.frame.DataFrame'>\n",
      "RangeIndex: 444 entries, 0 to 443\n",
      "Data columns (total 3 columns):\n",
      " #   Column     Non-Null Count  Dtype  \n",
      "---  ------     --------------  -----  \n",
      " 0   id         444 non-null    int64  \n",
      " 1   name       444 non-null    object \n",
      " 2   parent_id  306 non-null    float64\n",
      "dtypes: float64(1), int64(1), object(1)\n",
      "memory usage: 10.5+ KB\n"
     ]
    }
   ],
   "source": [
    "themes.info()"
   ]
  },
  {
   "cell_type": "code",
   "execution_count": 5,
   "metadata": {},
   "outputs": [
    {
     "data": {
      "text/html": [
       "<div>\n",
       "<style scoped>\n",
       "    .dataframe tbody tr th:only-of-type {\n",
       "        vertical-align: middle;\n",
       "    }\n",
       "\n",
       "    .dataframe tbody tr th {\n",
       "        vertical-align: top;\n",
       "    }\n",
       "\n",
       "    .dataframe thead th {\n",
       "        text-align: right;\n",
       "    }\n",
       "</style>\n",
       "<table border=\"1\" class=\"dataframe\">\n",
       "  <thead>\n",
       "    <tr style=\"text-align: right;\">\n",
       "      <th></th>\n",
       "      <th>id</th>\n",
       "      <th>parent_id</th>\n",
       "    </tr>\n",
       "  </thead>\n",
       "  <tbody>\n",
       "    <tr>\n",
       "      <th>count</th>\n",
       "      <td>444.000000</td>\n",
       "      <td>306.000000</td>\n",
       "    </tr>\n",
       "    <tr>\n",
       "      <th>mean</th>\n",
       "      <td>410.659910</td>\n",
       "      <td>346.516340</td>\n",
       "    </tr>\n",
       "    <tr>\n",
       "      <th>std</th>\n",
       "      <td>208.165803</td>\n",
       "      <td>198.728717</td>\n",
       "    </tr>\n",
       "    <tr>\n",
       "      <th>min</th>\n",
       "      <td>1.000000</td>\n",
       "      <td>1.000000</td>\n",
       "    </tr>\n",
       "    <tr>\n",
       "      <th>25%</th>\n",
       "      <td>229.750000</td>\n",
       "      <td>186.000000</td>\n",
       "    </tr>\n",
       "    <tr>\n",
       "      <th>50%</th>\n",
       "      <td>438.500000</td>\n",
       "      <td>409.500000</td>\n",
       "    </tr>\n",
       "    <tr>\n",
       "      <th>75%</th>\n",
       "      <td>597.250000</td>\n",
       "      <td>507.000000</td>\n",
       "    </tr>\n",
       "    <tr>\n",
       "      <th>max</th>\n",
       "      <td>719.000000</td>\n",
       "      <td>697.000000</td>\n",
       "    </tr>\n",
       "  </tbody>\n",
       "</table>\n",
       "</div>"
      ],
      "text/plain": [
       "               id   parent_id\n",
       "count  444.000000  306.000000\n",
       "mean   410.659910  346.516340\n",
       "std    208.165803  198.728717\n",
       "min      1.000000    1.000000\n",
       "25%    229.750000  186.000000\n",
       "50%    438.500000  409.500000\n",
       "75%    597.250000  507.000000\n",
       "max    719.000000  697.000000"
      ]
     },
     "execution_count": 5,
     "metadata": {},
     "output_type": "execute_result"
    }
   ],
   "source": [
    "themes.describe()"
   ]
  },
  {
   "cell_type": "markdown",
   "metadata": {},
   "source": [
    "**Q1:** Create a function called `data_count` that takes as input the data set (for example: `sets`) and returns the total number of rows in the data (as an integer).  Nothing else should be returned."
   ]
  },
  {
   "cell_type": "code",
   "execution_count": 6,
   "metadata": {},
   "outputs": [],
   "source": [
    "def data_count(df):\n",
    "    return len(df.index)"
   ]
  },
  {
   "cell_type": "code",
   "execution_count": 7,
   "metadata": {},
   "outputs": [
    {
     "data": {
      "text/plain": [
       "18576"
      ]
     },
     "execution_count": 7,
     "metadata": {},
     "output_type": "execute_result"
    }
   ],
   "source": [
    "data_count(sets)"
   ]
  },
  {
   "cell_type": "markdown",
   "metadata": {},
   "source": [
    "**Q2:** What is the average number of parts for a Lego set (rounded to the nearest integer)?"
   ]
  },
  {
   "cell_type": "code",
   "execution_count": 8,
   "metadata": {},
   "outputs": [
    {
     "data": {
      "text/plain": [
       "161"
      ]
     },
     "execution_count": 8,
     "metadata": {},
     "output_type": "execute_result"
    }
   ],
   "source": [
    "Q2 = np.round(sets['num_parts'].mean()).astype('int')\n",
    "Q2"
   ]
  },
  {
   "cell_type": "markdown",
   "metadata": {},
   "source": [
    "**Q3:** What is the median number of parts per set (output as an integer)?"
   ]
  },
  {
   "cell_type": "code",
   "execution_count": 9,
   "metadata": {},
   "outputs": [
    {
     "data": {
      "text/plain": [
       "37"
      ]
     },
     "execution_count": 9,
     "metadata": {},
     "output_type": "execute_result"
    }
   ],
   "source": [
    "Q3 = np.round(sets['num_parts'].median()).astype('int')\n",
    "Q3"
   ]
  },
  {
   "cell_type": "markdown",
   "metadata": {},
   "source": [
    "We should see that the median number of parts is much lower than the average number of parts per set.  This tells us that there are some Lego sets with a very high number of parts that brings the average up."
   ]
  },
  {
   "cell_type": "markdown",
   "metadata": {},
   "source": [
    "**Q4:** What is the largest number of parts that a set has?"
   ]
  },
  {
   "cell_type": "code",
   "execution_count": 10,
   "metadata": {},
   "outputs": [
    {
     "data": {
      "text/plain": [
       "11695"
      ]
     },
     "execution_count": 10,
     "metadata": {},
     "output_type": "execute_result"
    }
   ],
   "source": [
    "Q4 = sets['num_parts'].max()\n",
    "Q4"
   ]
  },
  {
   "cell_type": "markdown",
   "metadata": {},
   "source": [
    "**Q5:** Given the set with the largest number of parts calculated above, select its row from the `sets` DataFrame."
   ]
  },
  {
   "cell_type": "code",
   "execution_count": 11,
   "metadata": {},
   "outputs": [
    {
     "data": {
      "text/html": [
       "<div>\n",
       "<style scoped>\n",
       "    .dataframe tbody tr th:only-of-type {\n",
       "        vertical-align: middle;\n",
       "    }\n",
       "\n",
       "    .dataframe tbody tr th {\n",
       "        vertical-align: top;\n",
       "    }\n",
       "\n",
       "    .dataframe thead th {\n",
       "        text-align: right;\n",
       "    }\n",
       "</style>\n",
       "<table border=\"1\" class=\"dataframe\">\n",
       "  <thead>\n",
       "    <tr style=\"text-align: right;\">\n",
       "      <th></th>\n",
       "      <th>set_num</th>\n",
       "      <th>name</th>\n",
       "      <th>year</th>\n",
       "      <th>theme_id</th>\n",
       "      <th>num_parts</th>\n",
       "    </tr>\n",
       "  </thead>\n",
       "  <tbody>\n",
       "    <tr>\n",
       "      <th>3867</th>\n",
       "      <td>31203-1</td>\n",
       "      <td>World Map</td>\n",
       "      <td>2021</td>\n",
       "      <td>709</td>\n",
       "      <td>11695</td>\n",
       "    </tr>\n",
       "  </tbody>\n",
       "</table>\n",
       "</div>"
      ],
      "text/plain": [
       "      set_num       name  year  theme_id  num_parts\n",
       "3867  31203-1  World Map  2021       709      11695"
      ]
     },
     "execution_count": 11,
     "metadata": {},
     "output_type": "execute_result"
    }
   ],
   "source": [
    "Q5 = sets[sets['num_parts'] == Q4]\n",
    "Q5"
   ]
  },
  {
   "cell_type": "markdown",
   "metadata": {},
   "source": [
    "**Q6:** Create a function called `select_set_row` where we pass it the `set_num` (as a string) and the function returns the respective row of the DataFrame from `sets`. Do not reset the index."
   ]
  },
  {
   "cell_type": "code",
   "execution_count": 12,
   "metadata": {},
   "outputs": [],
   "source": [
    "def select_set_row(set_num):\n",
    "    return sets[sets['set_num'] == set_num]"
   ]
  },
  {
   "cell_type": "markdown",
   "metadata": {},
   "source": [
    "**Q7:** Create a function called `select_set_numparts` that takes as input a specific number of parts (as an integer) and selects all the rows in the `sets` DataFrame that contain those number of parts.  Return the DataFrame sorted by `year` and then by `set_num`.  Do not reset the index."
   ]
  },
  {
   "cell_type": "code",
   "execution_count": 13,
   "metadata": {},
   "outputs": [],
   "source": [
    "def select_set_numparts(num_parts):\n",
    "    return sets[sets['num_parts'] == num_parts].sort_values(by=['year', 'set_num'])"
   ]
  },
  {
   "cell_type": "code",
   "execution_count": 14,
   "metadata": {},
   "outputs": [
    {
     "data": {
      "text/html": [
       "<div>\n",
       "<style scoped>\n",
       "    .dataframe tbody tr th:only-of-type {\n",
       "        vertical-align: middle;\n",
       "    }\n",
       "\n",
       "    .dataframe tbody tr th {\n",
       "        vertical-align: top;\n",
       "    }\n",
       "\n",
       "    .dataframe thead th {\n",
       "        text-align: right;\n",
       "    }\n",
       "</style>\n",
       "<table border=\"1\" class=\"dataframe\">\n",
       "  <thead>\n",
       "    <tr style=\"text-align: right;\">\n",
       "      <th></th>\n",
       "      <th>set_num</th>\n",
       "      <th>name</th>\n",
       "      <th>year</th>\n",
       "      <th>theme_id</th>\n",
       "      <th>num_parts</th>\n",
       "    </tr>\n",
       "  </thead>\n",
       "  <tbody>\n",
       "    <tr>\n",
       "      <th>11061</th>\n",
       "      <td>700.1-2</td>\n",
       "      <td>Extra-Large Gift Set (Mursten)</td>\n",
       "      <td>1953</td>\n",
       "      <td>366</td>\n",
       "      <td>0</td>\n",
       "    </tr>\n",
       "    <tr>\n",
       "      <th>17563</th>\n",
       "      <td>b55dk-01</td>\n",
       "      <td>Lego Mursten - System i Leg Byggebog</td>\n",
       "      <td>1955</td>\n",
       "      <td>497</td>\n",
       "      <td>0</td>\n",
       "    </tr>\n",
       "    <tr>\n",
       "      <th>17564</th>\n",
       "      <td>b56de-01</td>\n",
       "      <td>System im Spiel</td>\n",
       "      <td>1956</td>\n",
       "      <td>497</td>\n",
       "      <td>0</td>\n",
       "    </tr>\n",
       "    <tr>\n",
       "      <th>11072</th>\n",
       "      <td>700.2-2</td>\n",
       "      <td>Gift Package</td>\n",
       "      <td>1957</td>\n",
       "      <td>366</td>\n",
       "      <td>0</td>\n",
       "    </tr>\n",
       "    <tr>\n",
       "      <th>11078</th>\n",
       "      <td>700.3A-2</td>\n",
       "      <td>Gift Package</td>\n",
       "      <td>1957</td>\n",
       "      <td>372</td>\n",
       "      <td>0</td>\n",
       "    </tr>\n",
       "    <tr>\n",
       "      <th>...</th>\n",
       "      <td>...</td>\n",
       "      <td>...</td>\n",
       "      <td>...</td>\n",
       "      <td>...</td>\n",
       "      <td>...</td>\n",
       "    </tr>\n",
       "    <tr>\n",
       "      <th>15619</th>\n",
       "      <td>854195-1</td>\n",
       "      <td>Ernie Key Chain</td>\n",
       "      <td>2022</td>\n",
       "      <td>503</td>\n",
       "      <td>0</td>\n",
       "    </tr>\n",
       "    <tr>\n",
       "      <th>15620</th>\n",
       "      <td>854197-1</td>\n",
       "      <td>Demogorgon Key Chain</td>\n",
       "      <td>2022</td>\n",
       "      <td>503</td>\n",
       "      <td>0</td>\n",
       "    </tr>\n",
       "    <tr>\n",
       "      <th>17170</th>\n",
       "      <td>9780744054583-1</td>\n",
       "      <td>DC Comics Super Heroes: Character Encyclopedia...</td>\n",
       "      <td>2022</td>\n",
       "      <td>497</td>\n",
       "      <td>0</td>\n",
       "    </tr>\n",
       "    <tr>\n",
       "      <th>17193</th>\n",
       "      <td>9780794447557-1</td>\n",
       "      <td>City: Color The City</td>\n",
       "      <td>2022</td>\n",
       "      <td>497</td>\n",
       "      <td>0</td>\n",
       "    </tr>\n",
       "    <tr>\n",
       "      <th>17200</th>\n",
       "      <td>9780794448172-1</td>\n",
       "      <td>DC Comics Super Heroes: Ready For Action</td>\n",
       "      <td>2022</td>\n",
       "      <td>497</td>\n",
       "      <td>0</td>\n",
       "    </tr>\n",
       "  </tbody>\n",
       "</table>\n",
       "<p>3146 rows × 5 columns</p>\n",
       "</div>"
      ],
      "text/plain": [
       "               set_num                                               name  \\\n",
       "11061          700.1-2                     Extra-Large Gift Set (Mursten)   \n",
       "17563         b55dk-01               Lego Mursten - System i Leg Byggebog   \n",
       "17564         b56de-01                                    System im Spiel   \n",
       "11072          700.2-2                                       Gift Package   \n",
       "11078         700.3A-2                                       Gift Package   \n",
       "...                ...                                                ...   \n",
       "15619         854195-1                                    Ernie Key Chain   \n",
       "15620         854197-1                               Demogorgon Key Chain   \n",
       "17170  9780744054583-1  DC Comics Super Heroes: Character Encyclopedia...   \n",
       "17193  9780794447557-1                               City: Color The City   \n",
       "17200  9780794448172-1           DC Comics Super Heroes: Ready For Action   \n",
       "\n",
       "       year  theme_id  num_parts  \n",
       "11061  1953       366          0  \n",
       "17563  1955       497          0  \n",
       "17564  1956       497          0  \n",
       "11072  1957       366          0  \n",
       "11078  1957       372          0  \n",
       "...     ...       ...        ...  \n",
       "15619  2022       503          0  \n",
       "15620  2022       503          0  \n",
       "17170  2022       497          0  \n",
       "17193  2022       497          0  \n",
       "17200  2022       497          0  \n",
       "\n",
       "[3146 rows x 5 columns]"
      ]
     },
     "execution_count": 14,
     "metadata": {},
     "output_type": "execute_result"
    }
   ],
   "source": [
    "select_set_numparts(0)"
   ]
  },
  {
   "cell_type": "markdown",
   "metadata": {},
   "source": [
    "**Q8:** \n",
    "- The oldest set listed was made in what year?  \n",
    "- The newest set listed was made in what year?"
   ]
  },
  {
   "cell_type": "code",
   "execution_count": 15,
   "metadata": {},
   "outputs": [
    {
     "data": {
      "text/plain": [
       "1949"
      ]
     },
     "execution_count": 15,
     "metadata": {},
     "output_type": "execute_result"
    }
   ],
   "source": [
    "Q8A = sets['year'].sort_values().iloc[0]\n",
    "Q8A"
   ]
  },
  {
   "cell_type": "code",
   "execution_count": 16,
   "metadata": {},
   "outputs": [
    {
     "data": {
      "text/plain": [
       "2022"
      ]
     },
     "execution_count": 16,
     "metadata": {},
     "output_type": "execute_result"
    }
   ],
   "source": [
    "Q8B = sets['year'].sort_values().iloc[-1]\n",
    "Q8B"
   ]
  },
  {
   "cell_type": "markdown",
   "metadata": {},
   "source": [
    "**Q9:** \n",
    "- Create a function called `select_set_year` that takes as input a year (as an integer) and returns the rows from the `sets` DataFrame that matches that year.  Sort the DataFrame by `set_num`.  Do not reset the index.\n",
    "- Use the above function to return a DataFrame for rows that match the minimum year.\n",
    "- Then use the above function to return a DataFrame for rows that match the maximum year."
   ]
  },
  {
   "cell_type": "code",
   "execution_count": 17,
   "metadata": {},
   "outputs": [],
   "source": [
    "def select_set_year(year):\n",
    "    return sets[sets['year'] == year].sort_values(by='set_num')"
   ]
  },
  {
   "cell_type": "code",
   "execution_count": 18,
   "metadata": {},
   "outputs": [
    {
     "data": {
      "text/html": [
       "<div>\n",
       "<style scoped>\n",
       "    .dataframe tbody tr th:only-of-type {\n",
       "        vertical-align: middle;\n",
       "    }\n",
       "\n",
       "    .dataframe tbody tr th {\n",
       "        vertical-align: top;\n",
       "    }\n",
       "\n",
       "    .dataframe thead th {\n",
       "        text-align: right;\n",
       "    }\n",
       "</style>\n",
       "<table border=\"1\" class=\"dataframe\">\n",
       "  <thead>\n",
       "    <tr style=\"text-align: right;\">\n",
       "      <th></th>\n",
       "      <th>set_num</th>\n",
       "      <th>name</th>\n",
       "      <th>year</th>\n",
       "      <th>theme_id</th>\n",
       "      <th>num_parts</th>\n",
       "    </tr>\n",
       "  </thead>\n",
       "  <tbody>\n",
       "    <tr>\n",
       "      <th>11057</th>\n",
       "      <td>700.1-1</td>\n",
       "      <td>Extra-Large Gift Set (ABB)</td>\n",
       "      <td>1949</td>\n",
       "      <td>365</td>\n",
       "      <td>142</td>\n",
       "    </tr>\n",
       "    <tr>\n",
       "      <th>11070</th>\n",
       "      <td>700.2-1</td>\n",
       "      <td>Large Gift Set (ABB)</td>\n",
       "      <td>1949</td>\n",
       "      <td>365</td>\n",
       "      <td>178</td>\n",
       "    </tr>\n",
       "    <tr>\n",
       "      <th>11075</th>\n",
       "      <td>700.3-1</td>\n",
       "      <td>Medium Gift Set (ABB)</td>\n",
       "      <td>1949</td>\n",
       "      <td>365</td>\n",
       "      <td>142</td>\n",
       "    </tr>\n",
       "    <tr>\n",
       "      <th>11080</th>\n",
       "      <td>700.A-1</td>\n",
       "      <td>Small Brick Set (ABB)</td>\n",
       "      <td>1949</td>\n",
       "      <td>371</td>\n",
       "      <td>24</td>\n",
       "    </tr>\n",
       "    <tr>\n",
       "      <th>11081</th>\n",
       "      <td>700.B-1</td>\n",
       "      <td>Small Doors and Windows Set (ABB)</td>\n",
       "      <td>1949</td>\n",
       "      <td>371</td>\n",
       "      <td>12</td>\n",
       "    </tr>\n",
       "  </tbody>\n",
       "</table>\n",
       "</div>"
      ],
      "text/plain": [
       "       set_num                               name  year  theme_id  num_parts\n",
       "11057  700.1-1         Extra-Large Gift Set (ABB)  1949       365        142\n",
       "11070  700.2-1               Large Gift Set (ABB)  1949       365        178\n",
       "11075  700.3-1              Medium Gift Set (ABB)  1949       365        142\n",
       "11080  700.A-1              Small Brick Set (ABB)  1949       371         24\n",
       "11081  700.B-1  Small Doors and Windows Set (ABB)  1949       371         12"
      ]
     },
     "execution_count": 18,
     "metadata": {},
     "output_type": "execute_result"
    }
   ],
   "source": [
    "Q9A = select_set_year(Q8A)\n",
    "Q9A"
   ]
  },
  {
   "cell_type": "code",
   "execution_count": 19,
   "metadata": {},
   "outputs": [
    {
     "data": {
      "text/html": [
       "<div>\n",
       "<style scoped>\n",
       "    .dataframe tbody tr th:only-of-type {\n",
       "        vertical-align: middle;\n",
       "    }\n",
       "\n",
       "    .dataframe tbody tr th {\n",
       "        vertical-align: top;\n",
       "    }\n",
       "\n",
       "    .dataframe thead th {\n",
       "        text-align: right;\n",
       "    }\n",
       "</style>\n",
       "<table border=\"1\" class=\"dataframe\">\n",
       "  <thead>\n",
       "    <tr style=\"text-align: right;\">\n",
       "      <th></th>\n",
       "      <th>set_num</th>\n",
       "      <th>name</th>\n",
       "      <th>year</th>\n",
       "      <th>theme_id</th>\n",
       "      <th>num_parts</th>\n",
       "    </tr>\n",
       "  </thead>\n",
       "  <tbody>\n",
       "    <tr>\n",
       "      <th>336</th>\n",
       "      <td>10297-1</td>\n",
       "      <td>Boutique Hotel</td>\n",
       "      <td>2022</td>\n",
       "      <td>155</td>\n",
       "      <td>3068</td>\n",
       "    </tr>\n",
       "    <tr>\n",
       "      <th>600</th>\n",
       "      <td>10781-1</td>\n",
       "      <td>Spider-Man’s Techno Trike</td>\n",
       "      <td>2022</td>\n",
       "      <td>706</td>\n",
       "      <td>59</td>\n",
       "    </tr>\n",
       "    <tr>\n",
       "      <th>601</th>\n",
       "      <td>10782-1</td>\n",
       "      <td>Hulk vs. Rhino Truck Showdown</td>\n",
       "      <td>2022</td>\n",
       "      <td>706</td>\n",
       "      <td>110</td>\n",
       "    </tr>\n",
       "    <tr>\n",
       "      <th>602</th>\n",
       "      <td>10783-1</td>\n",
       "      <td>Spider-Man at Doc Ock’s Lab</td>\n",
       "      <td>2022</td>\n",
       "      <td>706</td>\n",
       "      <td>131</td>\n",
       "    </tr>\n",
       "    <tr>\n",
       "      <th>603</th>\n",
       "      <td>10784-1</td>\n",
       "      <td>Spider-Man Webquarters Hangout</td>\n",
       "      <td>2022</td>\n",
       "      <td>706</td>\n",
       "      <td>155</td>\n",
       "    </tr>\n",
       "    <tr>\n",
       "      <th>...</th>\n",
       "      <td>...</td>\n",
       "      <td>...</td>\n",
       "      <td>...</td>\n",
       "      <td>...</td>\n",
       "      <td>...</td>\n",
       "    </tr>\n",
       "    <tr>\n",
       "      <th>17170</th>\n",
       "      <td>9780744054583-1</td>\n",
       "      <td>DC Comics Super Heroes: Character Encyclopedia...</td>\n",
       "      <td>2022</td>\n",
       "      <td>497</td>\n",
       "      <td>0</td>\n",
       "    </tr>\n",
       "    <tr>\n",
       "      <th>17193</th>\n",
       "      <td>9780794447557-1</td>\n",
       "      <td>City: Color The City</td>\n",
       "      <td>2022</td>\n",
       "      <td>497</td>\n",
       "      <td>0</td>\n",
       "    </tr>\n",
       "    <tr>\n",
       "      <th>17200</th>\n",
       "      <td>9780794448172-1</td>\n",
       "      <td>DC Comics Super Heroes: Ready For Action</td>\n",
       "      <td>2022</td>\n",
       "      <td>497</td>\n",
       "      <td>0</td>\n",
       "    </tr>\n",
       "    <tr>\n",
       "      <th>17207</th>\n",
       "      <td>9780794449247-1</td>\n",
       "      <td>DC Comics Super Heroes: Gotham City’s New Defe...</td>\n",
       "      <td>2022</td>\n",
       "      <td>497</td>\n",
       "      <td>7</td>\n",
       "    </tr>\n",
       "    <tr>\n",
       "      <th>17726</th>\n",
       "      <td>DOTS-SERIES-6</td>\n",
       "      <td>DOTS Collectible Tiles Series 6</td>\n",
       "      <td>2022</td>\n",
       "      <td>688</td>\n",
       "      <td>16</td>\n",
       "    </tr>\n",
       "  </tbody>\n",
       "</table>\n",
       "<p>183 rows × 5 columns</p>\n",
       "</div>"
      ],
      "text/plain": [
       "               set_num                                               name  \\\n",
       "336            10297-1                                     Boutique Hotel   \n",
       "600            10781-1                          Spider-Man’s Techno Trike   \n",
       "601            10782-1                      Hulk vs. Rhino Truck Showdown   \n",
       "602            10783-1                        Spider-Man at Doc Ock’s Lab   \n",
       "603            10784-1                     Spider-Man Webquarters Hangout   \n",
       "...                ...                                                ...   \n",
       "17170  9780744054583-1  DC Comics Super Heroes: Character Encyclopedia...   \n",
       "17193  9780794447557-1                               City: Color The City   \n",
       "17200  9780794448172-1           DC Comics Super Heroes: Ready For Action   \n",
       "17207  9780794449247-1  DC Comics Super Heroes: Gotham City’s New Defe...   \n",
       "17726    DOTS-SERIES-6                    DOTS Collectible Tiles Series 6   \n",
       "\n",
       "       year  theme_id  num_parts  \n",
       "336    2022       155       3068  \n",
       "600    2022       706         59  \n",
       "601    2022       706        110  \n",
       "602    2022       706        131  \n",
       "603    2022       706        155  \n",
       "...     ...       ...        ...  \n",
       "17170  2022       497          0  \n",
       "17193  2022       497          0  \n",
       "17200  2022       497          0  \n",
       "17207  2022       497          7  \n",
       "17726  2022       688         16  \n",
       "\n",
       "[183 rows x 5 columns]"
      ]
     },
     "execution_count": 19,
     "metadata": {},
     "output_type": "execute_result"
    }
   ],
   "source": [
    "Q9B = select_set_year(Q8B)\n",
    "Q9B"
   ]
  },
  {
   "cell_type": "markdown",
   "metadata": {},
   "source": [
    "**Q10:** What is the median year represented in the `sets` data?"
   ]
  },
  {
   "cell_type": "code",
   "execution_count": 20,
   "metadata": {},
   "outputs": [
    {
     "data": {
      "text/plain": [
       "2010"
      ]
     },
     "execution_count": 20,
     "metadata": {},
     "output_type": "execute_result"
    }
   ],
   "source": [
    "Q10 = np.round(sets['year'].median()).astype('int')\n",
    "Q10"
   ]
  },
  {
   "cell_type": "markdown",
   "metadata": {},
   "source": [
    "Notice that the first set was back in 1949 but over half of the sets were after the median year. This could be an indication that the number of sets has increased greatly over the past number of years."
   ]
  },
  {
   "cell_type": "markdown",
   "metadata": {},
   "source": [
    "**Q11:** What is the average number of sets listed per year?"
   ]
  },
  {
   "cell_type": "code",
   "execution_count": 21,
   "metadata": {},
   "outputs": [
    {
     "data": {
      "text/plain": [
       "258"
      ]
     },
     "execution_count": 21,
     "metadata": {},
     "output_type": "execute_result"
    }
   ],
   "source": [
    "Q11 = np.round(sets['year'].value_counts().mean()).astype('int')\n",
    "Q11"
   ]
  },
  {
   "cell_type": "markdown",
   "metadata": {},
   "source": [
    "**Q12:** What year had the lowest total number of sets?"
   ]
  },
  {
   "cell_type": "code",
   "execution_count": 22,
   "metadata": {},
   "outputs": [
    {
     "data": {
      "text/plain": [
       "1960"
      ]
     },
     "execution_count": 22,
     "metadata": {},
     "output_type": "execute_result"
    }
   ],
   "source": [
    "Q12 = sets['year'].value_counts().idxmin()\n",
    "Q12"
   ]
  },
  {
   "cell_type": "markdown",
   "metadata": {},
   "source": [
    "**Q13:** What year had the highest total number of sets?"
   ]
  },
  {
   "cell_type": "code",
   "execution_count": 23,
   "metadata": {},
   "outputs": [
    {
     "data": {
      "text/plain": [
       "2021"
      ]
     },
     "execution_count": 23,
     "metadata": {},
     "output_type": "execute_result"
    }
   ],
   "source": [
    "Q13 = sets['year'].value_counts().idxmax()\n",
    "Q13"
   ]
  },
  {
   "cell_type": "markdown",
   "metadata": {},
   "source": [
    "**Q14:** \n",
    "- Create a function called `theme_by_year` that takes as input a year (as an integer) and shows the theme ids and theme names (listed in order by theme id) that were in sets that year.  \n",
    "- The column names must be `id` and `name_themes` (to differentiate between the name of a theme and the name of a set) in that order.  \n",
    "- The index should be reset and go from `0` to `n-1`.  \n",
    "- Each theme should only be listed once even if it appeared in more than one set from that year -- duplicate themes should be based on theme id and not name since there are some themes with the same name but with a different id."
   ]
  },
  {
   "cell_type": "code",
   "execution_count": 24,
   "metadata": {},
   "outputs": [],
   "source": [
    "df_sets_themes = sets.merge(themes, how='left', left_on='theme_id', right_on='id', suffixes=('_sets', '_themes'))\n",
    "\n",
    "def theme_by_year(year):\n",
    "    sets_themes_byYear = df_sets_themes[df_sets_themes['year'] == year]\n",
    "    sets_themes_byYear = sets_themes_byYear[['id', 'name_themes']].drop_duplicates().sort_values(by='id', \n",
    "                                                                                              ignore_index=True)\n",
    "    return sets_themes_byYear"
   ]
  },
  {
   "cell_type": "code",
   "execution_count": 25,
   "metadata": {},
   "outputs": [
    {
     "data": {
      "text/html": [
       "<div>\n",
       "<style scoped>\n",
       "    .dataframe tbody tr th:only-of-type {\n",
       "        vertical-align: middle;\n",
       "    }\n",
       "\n",
       "    .dataframe tbody tr th {\n",
       "        vertical-align: top;\n",
       "    }\n",
       "\n",
       "    .dataframe thead th {\n",
       "        text-align: right;\n",
       "    }\n",
       "</style>\n",
       "<table border=\"1\" class=\"dataframe\">\n",
       "  <thead>\n",
       "    <tr style=\"text-align: right;\">\n",
       "      <th></th>\n",
       "      <th>id</th>\n",
       "      <th>name_themes</th>\n",
       "    </tr>\n",
       "  </thead>\n",
       "  <tbody>\n",
       "    <tr>\n",
       "      <th>0</th>\n",
       "      <td>371</td>\n",
       "      <td>Supplemental</td>\n",
       "    </tr>\n",
       "    <tr>\n",
       "      <th>1</th>\n",
       "      <td>497</td>\n",
       "      <td>Books</td>\n",
       "    </tr>\n",
       "    <tr>\n",
       "      <th>2</th>\n",
       "      <td>513</td>\n",
       "      <td>Classic</td>\n",
       "    </tr>\n",
       "  </tbody>\n",
       "</table>\n",
       "</div>"
      ],
      "text/plain": [
       "    id   name_themes\n",
       "0  371  Supplemental\n",
       "1  497         Books\n",
       "2  513       Classic"
      ]
     },
     "execution_count": 25,
     "metadata": {},
     "output_type": "execute_result"
    }
   ],
   "source": [
    "theme_by_year(Q12)"
   ]
  },
  {
   "cell_type": "markdown",
   "metadata": {},
   "source": [
    "**Q15:** What theme has the most number of sets associated with it?"
   ]
  },
  {
   "cell_type": "code",
   "execution_count": 27,
   "metadata": {},
   "outputs": [
    {
     "data": {
      "text/plain": [
       "'Gear'"
      ]
     },
     "execution_count": 27,
     "metadata": {},
     "output_type": "execute_result"
    }
   ],
   "source": [
    "df_themes_sets = sets.merge(themes, how='right', left_on='theme_id', right_on='id', suffixes=('_sets', '_themes'))\n",
    "themes_sets = df_themes_sets[['id','name_themes']]\n",
    "Q15 = themes_sets.value_counts().idxmax()[1]\n",
    "Q15"
   ]
  },
  {
   "cell_type": "markdown",
   "metadata": {},
   "source": [
    "**Q16:** \n",
    "- Create a function called `theme_by_name` that takes as input a theme name and outputs all the sets (in `set_num` order) that had that theme.  \n",
    "- The DataFrame should include the following columns in this order and with these exact names: `set_num`,`name_sets`,`year`,`num_parts`, `theme_id`, and `name_themes`.  \n",
    "- The index should go from `0` to `n-1`."
   ]
  },
  {
   "cell_type": "code",
   "execution_count": 28,
   "metadata": {},
   "outputs": [],
   "source": [
    "def theme_by_name(theme):\n",
    "    themes_sets_byTheme = df_themes_sets[df_themes_sets['name_themes'] == theme]\n",
    "    cols = ['set_num', 'name_sets', 'year', 'num_parts', 'theme_id', 'name_themes']\n",
    "    themes_sets_byTheme = themes_sets_byTheme[cols].sort_values(by='set_num', ignore_index=True)\n",
    "    return themes_sets_byTheme.astype(int, errors='ignore')"
   ]
  },
  {
   "cell_type": "code",
   "execution_count": 29,
   "metadata": {},
   "outputs": [
    {
     "data": {
      "text/html": [
       "<div>\n",
       "<style scoped>\n",
       "    .dataframe tbody tr th:only-of-type {\n",
       "        vertical-align: middle;\n",
       "    }\n",
       "\n",
       "    .dataframe tbody tr th {\n",
       "        vertical-align: top;\n",
       "    }\n",
       "\n",
       "    .dataframe thead th {\n",
       "        text-align: right;\n",
       "    }\n",
       "</style>\n",
       "<table border=\"1\" class=\"dataframe\">\n",
       "  <thead>\n",
       "    <tr style=\"text-align: right;\">\n",
       "      <th></th>\n",
       "      <th>set_num</th>\n",
       "      <th>name_sets</th>\n",
       "      <th>year</th>\n",
       "      <th>num_parts</th>\n",
       "      <th>theme_id</th>\n",
       "      <th>name_themes</th>\n",
       "    </tr>\n",
       "  </thead>\n",
       "  <tbody>\n",
       "    <tr>\n",
       "      <th>0</th>\n",
       "      <td>11138-1</td>\n",
       "      <td>Bionicle Barraki Wallet</td>\n",
       "      <td>2008</td>\n",
       "      <td>0</td>\n",
       "      <td>501</td>\n",
       "      <td>Gear</td>\n",
       "    </tr>\n",
       "    <tr>\n",
       "      <th>1</th>\n",
       "      <td>119645111436-1</td>\n",
       "      <td>Classic Space Astronaut Plush (Red)</td>\n",
       "      <td>2021</td>\n",
       "      <td>0</td>\n",
       "      <td>501</td>\n",
       "      <td>Gear</td>\n",
       "    </tr>\n",
       "    <tr>\n",
       "      <th>2</th>\n",
       "      <td>119645111504-1</td>\n",
       "      <td>Classic Space Astronaut Plush (Blue)</td>\n",
       "      <td>2021</td>\n",
       "      <td>0</td>\n",
       "      <td>501</td>\n",
       "      <td>Gear</td>\n",
       "    </tr>\n",
       "    <tr>\n",
       "      <th>3</th>\n",
       "      <td>119645111740-1</td>\n",
       "      <td>Classic Space Astronaut Plush (White)</td>\n",
       "      <td>2021</td>\n",
       "      <td>0</td>\n",
       "      <td>501</td>\n",
       "      <td>Gear</td>\n",
       "    </tr>\n",
       "    <tr>\n",
       "      <th>4</th>\n",
       "      <td>119645111818-1</td>\n",
       "      <td>Classic Space Astronaut Plush (Pink)</td>\n",
       "      <td>2021</td>\n",
       "      <td>0</td>\n",
       "      <td>501</td>\n",
       "      <td>Gear</td>\n",
       "    </tr>\n",
       "    <tr>\n",
       "      <th>...</th>\n",
       "      <td>...</td>\n",
       "      <td>...</td>\n",
       "      <td>...</td>\n",
       "      <td>...</td>\n",
       "      <td>...</td>\n",
       "      <td>...</td>\n",
       "    </tr>\n",
       "    <tr>\n",
       "      <th>1899</th>\n",
       "      <td>WATCH-3</td>\n",
       "      <td>Watch System Voyager (UFO Space)</td>\n",
       "      <td>1997</td>\n",
       "      <td>29</td>\n",
       "      <td>501</td>\n",
       "      <td>Gear</td>\n",
       "    </tr>\n",
       "    <tr>\n",
       "      <th>1900</th>\n",
       "      <td>WIIGAME-1</td>\n",
       "      <td>Bionicle Heroes - Wii</td>\n",
       "      <td>2007</td>\n",
       "      <td>0</td>\n",
       "      <td>501</td>\n",
       "      <td>Gear</td>\n",
       "    </tr>\n",
       "    <tr>\n",
       "      <th>1901</th>\n",
       "      <td>WIIGAME-2</td>\n",
       "      <td>Indiana Jones: The Original Adventures Video G...</td>\n",
       "      <td>2008</td>\n",
       "      <td>0</td>\n",
       "      <td>501</td>\n",
       "      <td>Gear</td>\n",
       "    </tr>\n",
       "    <tr>\n",
       "      <th>1902</th>\n",
       "      <td>WOODENELEPHANT-1</td>\n",
       "      <td>Original Wooden Elephant Pull-Along Toy and Print</td>\n",
       "      <td>2021</td>\n",
       "      <td>0</td>\n",
       "      <td>501</td>\n",
       "      <td>Gear</td>\n",
       "    </tr>\n",
       "    <tr>\n",
       "      <th>1903</th>\n",
       "      <td>ZX8000-1</td>\n",
       "      <td>ZX 8000 LEGO Sneaker</td>\n",
       "      <td>2020</td>\n",
       "      <td>0</td>\n",
       "      <td>501</td>\n",
       "      <td>Gear</td>\n",
       "    </tr>\n",
       "  </tbody>\n",
       "</table>\n",
       "<p>1904 rows × 6 columns</p>\n",
       "</div>"
      ],
      "text/plain": [
       "               set_num                                          name_sets  \\\n",
       "0              11138-1                            Bionicle Barraki Wallet   \n",
       "1       119645111436-1                Classic Space Astronaut Plush (Red)   \n",
       "2       119645111504-1               Classic Space Astronaut Plush (Blue)   \n",
       "3       119645111740-1              Classic Space Astronaut Plush (White)   \n",
       "4       119645111818-1               Classic Space Astronaut Plush (Pink)   \n",
       "...                ...                                                ...   \n",
       "1899           WATCH-3                   Watch System Voyager (UFO Space)   \n",
       "1900         WIIGAME-1                              Bionicle Heroes - Wii   \n",
       "1901         WIIGAME-2  Indiana Jones: The Original Adventures Video G...   \n",
       "1902  WOODENELEPHANT-1  Original Wooden Elephant Pull-Along Toy and Print   \n",
       "1903          ZX8000-1                               ZX 8000 LEGO Sneaker   \n",
       "\n",
       "      year  num_parts  theme_id name_themes  \n",
       "0     2008          0       501        Gear  \n",
       "1     2021          0       501        Gear  \n",
       "2     2021          0       501        Gear  \n",
       "3     2021          0       501        Gear  \n",
       "4     2021          0       501        Gear  \n",
       "...    ...        ...       ...         ...  \n",
       "1899  1997         29       501        Gear  \n",
       "1900  2007          0       501        Gear  \n",
       "1901  2008          0       501        Gear  \n",
       "1902  2021          0       501        Gear  \n",
       "1903  2020          0       501        Gear  \n",
       "\n",
       "[1904 rows x 6 columns]"
      ]
     },
     "execution_count": 29,
     "metadata": {},
     "output_type": "execute_result"
    }
   ],
   "source": [
    "theme_by_name(Q15)"
   ]
  },
  {
   "cell_type": "markdown",
   "metadata": {},
   "source": [
    "**Q17:** What themes have the most sets associated with them?  Output the top 5 themes as a Series with the theme name as the index and the number of sets that the theme appears in as the values.  The Series should be sorted in descending order."
   ]
  },
  {
   "cell_type": "code",
   "execution_count": 30,
   "metadata": {},
   "outputs": [
    {
     "data": {
      "text/plain": [
       "Gear         1904\n",
       "Star Wars     825\n",
       "Technic       693\n",
       "Key Chain     583\n",
       "Friends       482\n",
       "Name: name_themes, dtype: int64"
      ]
     },
     "execution_count": 30,
     "metadata": {},
     "output_type": "execute_result"
    }
   ],
   "source": [
    "Q17 = df_themes_sets['name_themes'].value_counts()[:5]\n",
    "Q17"
   ]
  },
  {
   "cell_type": "markdown",
   "metadata": {},
   "source": [
    "**Q18:** Create a function called `theme_by_setnum` that takes as input the set_num (as a string) and returns the respective theme name as a string."
   ]
  },
  {
   "cell_type": "code",
   "execution_count": 31,
   "metadata": {},
   "outputs": [],
   "source": [
    "def theme_by_setnum(set_num):\n",
    "    return df_sets_themes.loc[df_sets_themes['set_num'] == set_num, 'name_themes'].iloc[0]"
   ]
  },
  {
   "cell_type": "code",
   "execution_count": 32,
   "metadata": {},
   "outputs": [
    {
     "data": {
      "text/plain": [
       "'Star Wars'"
      ]
     },
     "execution_count": 32,
     "metadata": {},
     "output_type": "execute_result"
    }
   ],
   "source": [
    "theme_by_setnum('75043-1')"
   ]
  },
  {
   "cell_type": "markdown",
   "metadata": {},
   "source": [
    "**Q19:** Find all the sets named 'Millennium Falcon'. Of these sets, find the set with the largest number of parts."
   ]
  },
  {
   "cell_type": "code",
   "execution_count": 33,
   "metadata": {},
   "outputs": [
    {
     "data": {
      "text/plain": [
       "set_num                75192-1\n",
       "name         Millennium Falcon\n",
       "year                      2017\n",
       "theme_id                   171\n",
       "num_parts                 7541\n",
       "Name: 12884, dtype: object"
      ]
     },
     "execution_count": 33,
     "metadata": {},
     "output_type": "execute_result"
    }
   ],
   "source": [
    "sets[sets['name'] == 'Millennium Falcon'].sort_values(by='num_parts', ascending=False).iloc[0]"
   ]
  },
  {
   "cell_type": "markdown",
   "metadata": {},
   "source": [
    "**Q20:** \n",
    "- How many minifigs are contained in the set from `Q19`? "
   ]
  },
  {
   "cell_type": "code",
   "execution_count": 34,
   "metadata": {},
   "outputs": [
    {
     "data": {
      "text/plain": [
       "8"
      ]
     },
     "execution_count": 34,
     "metadata": {},
     "output_type": "execute_result"
    }
   ],
   "source": [
    "df_invfigs_inv = inventories.merge(inventory_minifigs, how='right', left_on='id', right_on='inventory_id')\n",
    "Q20 = df_invfigs_inv.loc[df_invfigs_inv['set_num'] == '75192-1', 'quantity'].sum()\n",
    "Q20"
   ]
  },
  {
   "cell_type": "markdown",
   "metadata": {},
   "source": [
    "**Q21:** \n",
    "- Create a function called `get_minifigs` that takes as input a set number (as a string) and a version number (as an integer) and outputs all minifigs from that set / version combination.  \n",
    "- The DataFrame should be in `fig_num` order with the following columns/column names: `set_num`, `fig_num`, `fig_name`, `fig_num_parts`.  \n",
    "- The index should go from 0 to n-1."
   ]
  },
  {
   "cell_type": "code",
   "execution_count": 36,
   "metadata": {},
   "outputs": [],
   "source": [
    "df_figs_inv = minifigs.merge(df_invfigs_inv, on='fig_num').rename(columns=\n",
    "                                                                  {'name':'fig_name', \n",
    "                                                                   'num_parts':'fig_num_parts'})\n",
    "\n",
    "def get_minifigs(set_num, version):\n",
    "    figs_inv_bySet = df_figs_inv[(df_figs_inv['set_num'] == set_num) & (df_figs_inv['version'] == version)]\n",
    "    figs_inv_bySet = figs_inv_bySet[['set_num', 'fig_num', 'fig_name', 'fig_num_parts']]\n",
    "    return figs_inv_bySet.sort_values(by='fig_num', ignore_index=True)"
   ]
  },
  {
   "cell_type": "markdown",
   "metadata": {},
   "source": [
    "**Q22:** Using the above function, output information about the minifigs from the set discussed in `Q19`."
   ]
  },
  {
   "cell_type": "code",
   "execution_count": 37,
   "metadata": {},
   "outputs": [
    {
     "data": {
      "text/html": [
       "<div>\n",
       "<style scoped>\n",
       "    .dataframe tbody tr th:only-of-type {\n",
       "        vertical-align: middle;\n",
       "    }\n",
       "\n",
       "    .dataframe tbody tr th {\n",
       "        vertical-align: top;\n",
       "    }\n",
       "\n",
       "    .dataframe thead th {\n",
       "        text-align: right;\n",
       "    }\n",
       "</style>\n",
       "<table border=\"1\" class=\"dataframe\">\n",
       "  <thead>\n",
       "    <tr style=\"text-align: right;\">\n",
       "      <th></th>\n",
       "      <th>set_num</th>\n",
       "      <th>fig_num</th>\n",
       "      <th>fig_name</th>\n",
       "      <th>fig_num_parts</th>\n",
       "    </tr>\n",
       "  </thead>\n",
       "  <tbody>\n",
       "    <tr>\n",
       "      <th>0</th>\n",
       "      <td>75192-1</td>\n",
       "      <td>fig-001714</td>\n",
       "      <td>Chewbacca, Dark Brown</td>\n",
       "      <td>3</td>\n",
       "    </tr>\n",
       "    <tr>\n",
       "      <th>1</th>\n",
       "      <td>75192-1</td>\n",
       "      <td>fig-001810</td>\n",
       "      <td>Finn, Black Undershirt</td>\n",
       "      <td>4</td>\n",
       "    </tr>\n",
       "    <tr>\n",
       "      <th>2</th>\n",
       "      <td>75192-1</td>\n",
       "      <td>fig-002057</td>\n",
       "      <td>Rey, Dark Tan Robe</td>\n",
       "      <td>4</td>\n",
       "    </tr>\n",
       "    <tr>\n",
       "      <th>3</th>\n",
       "      <td>75192-1</td>\n",
       "      <td>fig-002514</td>\n",
       "      <td>C-3PO, Pearl Gold, Colorful Wires, Printed Legs</td>\n",
       "      <td>3</td>\n",
       "    </tr>\n",
       "    <tr>\n",
       "      <th>4</th>\n",
       "      <td>75192-1</td>\n",
       "      <td>fig-002544</td>\n",
       "      <td>BB-8</td>\n",
       "      <td>2</td>\n",
       "    </tr>\n",
       "    <tr>\n",
       "      <th>5</th>\n",
       "      <td>75192-1</td>\n",
       "      <td>fig-002549</td>\n",
       "      <td>Princess Leia, Hoth Outfit, White Jacket, Prin...</td>\n",
       "      <td>4</td>\n",
       "    </tr>\n",
       "    <tr>\n",
       "      <th>6</th>\n",
       "      <td>75192-1</td>\n",
       "      <td>fig-002550</td>\n",
       "      <td>Han Solo, Dark Blue Jacket, Dark Brown Legs, P...</td>\n",
       "      <td>4</td>\n",
       "    </tr>\n",
       "    <tr>\n",
       "      <th>7</th>\n",
       "      <td>75192-1</td>\n",
       "      <td>fig-002551</td>\n",
       "      <td>Han Solo, Old, Angry</td>\n",
       "      <td>4</td>\n",
       "    </tr>\n",
       "  </tbody>\n",
       "</table>\n",
       "</div>"
      ],
      "text/plain": [
       "   set_num     fig_num                                           fig_name  \\\n",
       "0  75192-1  fig-001714                              Chewbacca, Dark Brown   \n",
       "1  75192-1  fig-001810                             Finn, Black Undershirt   \n",
       "2  75192-1  fig-002057                                 Rey, Dark Tan Robe   \n",
       "3  75192-1  fig-002514    C-3PO, Pearl Gold, Colorful Wires, Printed Legs   \n",
       "4  75192-1  fig-002544                                               BB-8   \n",
       "5  75192-1  fig-002549  Princess Leia, Hoth Outfit, White Jacket, Prin...   \n",
       "6  75192-1  fig-002550  Han Solo, Dark Blue Jacket, Dark Brown Legs, P...   \n",
       "7  75192-1  fig-002551                               Han Solo, Old, Angry   \n",
       "\n",
       "   fig_num_parts  \n",
       "0              3  \n",
       "1              4  \n",
       "2              4  \n",
       "3              3  \n",
       "4              2  \n",
       "5              4  \n",
       "6              4  \n",
       "7              4  "
      ]
     },
     "execution_count": 37,
     "metadata": {},
     "output_type": "execute_result"
    }
   ],
   "source": [
    "Q22 = get_minifigs(set_num='75192-1', version=1)\n",
    "Q22"
   ]
  },
  {
   "cell_type": "code",
   "execution_count": 38,
   "metadata": {},
   "outputs": [
    {
     "data": {
      "text/html": [
       "<div>\n",
       "<style scoped>\n",
       "    .dataframe tbody tr th:only-of-type {\n",
       "        vertical-align: middle;\n",
       "    }\n",
       "\n",
       "    .dataframe tbody tr th {\n",
       "        vertical-align: top;\n",
       "    }\n",
       "\n",
       "    .dataframe thead th {\n",
       "        text-align: right;\n",
       "    }\n",
       "</style>\n",
       "<table border=\"1\" class=\"dataframe\">\n",
       "  <thead>\n",
       "    <tr style=\"text-align: right;\">\n",
       "      <th></th>\n",
       "      <th>set_num</th>\n",
       "      <th>fig_num</th>\n",
       "      <th>fig_name</th>\n",
       "      <th>fig_num_parts</th>\n",
       "    </tr>\n",
       "  </thead>\n",
       "  <tbody>\n",
       "    <tr>\n",
       "      <th>0</th>\n",
       "      <td>10217-1</td>\n",
       "      <td>fig-002229</td>\n",
       "      <td>Skeleton (Standard) (3626b Head)</td>\n",
       "      <td>6</td>\n",
       "    </tr>\n",
       "    <tr>\n",
       "      <th>1</th>\n",
       "      <td>10217-1</td>\n",
       "      <td>fig-006075</td>\n",
       "      <td>Rubeus Hagrid, Dark Brown Overcoat</td>\n",
       "      <td>3</td>\n",
       "    </tr>\n",
       "    <tr>\n",
       "      <th>2</th>\n",
       "      <td>10217-1</td>\n",
       "      <td>fig-006084</td>\n",
       "      <td>Lucius Malfoy, Black Robes and Cape, Death Eat...</td>\n",
       "      <td>5</td>\n",
       "    </tr>\n",
       "    <tr>\n",
       "      <th>3</th>\n",
       "      <td>10217-1</td>\n",
       "      <td>fig-006130</td>\n",
       "      <td>Harry Potter, Open Dark Blue Jacket over White...</td>\n",
       "      <td>4</td>\n",
       "    </tr>\n",
       "    <tr>\n",
       "      <th>4</th>\n",
       "      <td>10217-1</td>\n",
       "      <td>fig-006138</td>\n",
       "      <td>Fenrir Greyback</td>\n",
       "      <td>4</td>\n",
       "    </tr>\n",
       "    <tr>\n",
       "      <th>5</th>\n",
       "      <td>10217-1</td>\n",
       "      <td>fig-006162</td>\n",
       "      <td>Ron Weasley, Red Tartan Sweater Vest, Reddish ...</td>\n",
       "      <td>4</td>\n",
       "    </tr>\n",
       "    <tr>\n",
       "      <th>6</th>\n",
       "      <td>10217-1</td>\n",
       "      <td>fig-006163</td>\n",
       "      <td>Fred / George Weasley in Dark Orange Suit</td>\n",
       "      <td>4</td>\n",
       "    </tr>\n",
       "    <tr>\n",
       "      <th>7</th>\n",
       "      <td>10217-1</td>\n",
       "      <td>fig-006164</td>\n",
       "      <td>Garrick Ollivander</td>\n",
       "      <td>4</td>\n",
       "    </tr>\n",
       "    <tr>\n",
       "      <th>8</th>\n",
       "      <td>10217-1</td>\n",
       "      <td>fig-006165</td>\n",
       "      <td>Goblin, Black Jacket and Light Bluish Gray Legs</td>\n",
       "      <td>3</td>\n",
       "    </tr>\n",
       "    <tr>\n",
       "      <th>9</th>\n",
       "      <td>10217-1</td>\n",
       "      <td>fig-006166</td>\n",
       "      <td>Goblin, Black Jacket and Reddish Brown Legs</td>\n",
       "      <td>3</td>\n",
       "    </tr>\n",
       "    <tr>\n",
       "      <th>10</th>\n",
       "      <td>10217-1</td>\n",
       "      <td>fig-006167</td>\n",
       "      <td>Hermione Granger, Light Bluish Gray Sweater wi...</td>\n",
       "      <td>4</td>\n",
       "    </tr>\n",
       "  </tbody>\n",
       "</table>\n",
       "</div>"
      ],
      "text/plain": [
       "    set_num     fig_num                                           fig_name  \\\n",
       "0   10217-1  fig-002229                   Skeleton (Standard) (3626b Head)   \n",
       "1   10217-1  fig-006075                 Rubeus Hagrid, Dark Brown Overcoat   \n",
       "2   10217-1  fig-006084  Lucius Malfoy, Black Robes and Cape, Death Eat...   \n",
       "3   10217-1  fig-006130  Harry Potter, Open Dark Blue Jacket over White...   \n",
       "4   10217-1  fig-006138                                    Fenrir Greyback   \n",
       "5   10217-1  fig-006162  Ron Weasley, Red Tartan Sweater Vest, Reddish ...   \n",
       "6   10217-1  fig-006163          Fred / George Weasley in Dark Orange Suit   \n",
       "7   10217-1  fig-006164                                 Garrick Ollivander   \n",
       "8   10217-1  fig-006165    Goblin, Black Jacket and Light Bluish Gray Legs   \n",
       "9   10217-1  fig-006166        Goblin, Black Jacket and Reddish Brown Legs   \n",
       "10  10217-1  fig-006167  Hermione Granger, Light Bluish Gray Sweater wi...   \n",
       "\n",
       "    fig_num_parts  \n",
       "0               6  \n",
       "1               3  \n",
       "2               5  \n",
       "3               4  \n",
       "4               4  \n",
       "5               4  \n",
       "6               4  \n",
       "7               4  \n",
       "8               3  \n",
       "9               3  \n",
       "10              4  "
      ]
     },
     "execution_count": 38,
     "metadata": {},
     "output_type": "execute_result"
    }
   ],
   "source": [
    "# get_minifigs('10217-1', 1)\n",
    "get_minifigs('10217-1', 2)"
   ]
  },
  {
   "cell_type": "markdown",
   "metadata": {},
   "source": [
    "**Q23:** \n",
    "- Create a function called `minifigs_from_themes` that takes as input a theme id (as an integer) and outputs all the minifigs contained in sets with that theme.  \n",
    "- The DataFrame should be in `fig_num` order with the following columns/column names: `fig_num`, `fig_name`. \n",
    "- The index should go from 0 to n-1.  \n",
    "- Exact duplicates should be removed so that only unique figs are included."
   ]
  },
  {
   "cell_type": "code",
   "execution_count": 41,
   "metadata": {},
   "outputs": [],
   "source": [
    "df_setsThemes_figsInv = df_sets_themes.merge(df_figs_inv, on='set_num').rename(columns={'name':'name_sets'})\n",
    "\n",
    "def minifigs_from_themes(theme_id):\n",
    "    setsThemes_figsInv_byTheme = df_setsThemes_figsInv[df_setsThemes_figsInv['theme_id'] == theme_id]\n",
    "    setsThemes_figsInv_byTheme = setsThemes_figsInv_byTheme[['fig_num', 'fig_name']]\n",
    "    return setsThemes_figsInv_byTheme.drop_duplicates().sort_values(by='fig_num', ignore_index=True)"
   ]
  },
  {
   "cell_type": "code",
   "execution_count": 42,
   "metadata": {},
   "outputs": [
    {
     "data": {
      "text/html": [
       "<div>\n",
       "<style scoped>\n",
       "    .dataframe tbody tr th:only-of-type {\n",
       "        vertical-align: middle;\n",
       "    }\n",
       "\n",
       "    .dataframe tbody tr th {\n",
       "        vertical-align: top;\n",
       "    }\n",
       "\n",
       "    .dataframe thead th {\n",
       "        text-align: right;\n",
       "    }\n",
       "</style>\n",
       "<table border=\"1\" class=\"dataframe\">\n",
       "  <thead>\n",
       "    <tr style=\"text-align: right;\">\n",
       "      <th></th>\n",
       "      <th>fig_num</th>\n",
       "      <th>fig_name</th>\n",
       "    </tr>\n",
       "  </thead>\n",
       "  <tbody>\n",
       "    <tr>\n",
       "      <th>0</th>\n",
       "      <td>fig-000003</td>\n",
       "      <td>Assassin Droid, White</td>\n",
       "    </tr>\n",
       "    <tr>\n",
       "      <th>1</th>\n",
       "      <td>fig-000124</td>\n",
       "      <td>Chewbacca, Reddish Brown</td>\n",
       "    </tr>\n",
       "    <tr>\n",
       "      <th>2</th>\n",
       "      <td>fig-000144</td>\n",
       "      <td>Luke Skywalker, White Robe, White Legs, Cheek ...</td>\n",
       "    </tr>\n",
       "    <tr>\n",
       "      <th>3</th>\n",
       "      <td>fig-000303</td>\n",
       "      <td>Clone Trooper, Phase I Armor, Brown Eyes</td>\n",
       "    </tr>\n",
       "    <tr>\n",
       "      <th>4</th>\n",
       "      <td>fig-000516</td>\n",
       "      <td>Darth Vader, Light Bluish Gray Skin, Scarred R...</td>\n",
       "    </tr>\n",
       "    <tr>\n",
       "      <th>...</th>\n",
       "      <td>...</td>\n",
       "      <td>...</td>\n",
       "    </tr>\n",
       "    <tr>\n",
       "      <th>144</th>\n",
       "      <td>fig-011942</td>\n",
       "      <td>AT-AT Driver - Light Bluish Grey Helmet, Sand ...</td>\n",
       "    </tr>\n",
       "    <tr>\n",
       "      <th>145</th>\n",
       "      <td>fig-011944</td>\n",
       "      <td>Snowtrooper, White Hips, Reddish Brown Head, F...</td>\n",
       "    </tr>\n",
       "    <tr>\n",
       "      <th>146</th>\n",
       "      <td>fig-011945</td>\n",
       "      <td>Snowtrooper, White Hips, Light Flesh Head, Female</td>\n",
       "    </tr>\n",
       "    <tr>\n",
       "      <th>147</th>\n",
       "      <td>fig-011946</td>\n",
       "      <td>Snowtrooper, White Hips, Light Flesh Head, Off...</td>\n",
       "    </tr>\n",
       "    <tr>\n",
       "      <th>148</th>\n",
       "      <td>fig-011957</td>\n",
       "      <td>Snowtrooper, White Hips, Light Flesh Head, Grin</td>\n",
       "    </tr>\n",
       "  </tbody>\n",
       "</table>\n",
       "<p>149 rows × 2 columns</p>\n",
       "</div>"
      ],
      "text/plain": [
       "        fig_num                                           fig_name\n",
       "0    fig-000003                              Assassin Droid, White\n",
       "1    fig-000124                           Chewbacca, Reddish Brown\n",
       "2    fig-000144  Luke Skywalker, White Robe, White Legs, Cheek ...\n",
       "3    fig-000303           Clone Trooper, Phase I Armor, Brown Eyes\n",
       "4    fig-000516  Darth Vader, Light Bluish Gray Skin, Scarred R...\n",
       "..          ...                                                ...\n",
       "144  fig-011942  AT-AT Driver - Light Bluish Grey Helmet, Sand ...\n",
       "145  fig-011944  Snowtrooper, White Hips, Reddish Brown Head, F...\n",
       "146  fig-011945  Snowtrooper, White Hips, Light Flesh Head, Female\n",
       "147  fig-011946  Snowtrooper, White Hips, Light Flesh Head, Off...\n",
       "148  fig-011957    Snowtrooper, White Hips, Light Flesh Head, Grin\n",
       "\n",
       "[149 rows x 2 columns]"
      ]
     },
     "execution_count": 42,
     "metadata": {},
     "output_type": "execute_result"
    }
   ],
   "source": [
    "minifigs_from_themes(171)"
   ]
  },
  {
   "cell_type": "markdown",
   "metadata": {},
   "source": [
    "**Q24:** \n",
    "- Create a function called `sets_from_minifig` that takes as input a minifig number (as a string) and returns a list of sets a minifig has appeared in.  \n",
    "- Return a DataFrame (sorted by `set_num` and then by `version`) with the following columns: `set_num`, `version`,`name_sets`, `fig_num`, `fig_name`.  \n",
    "- The index should go from 0 to n-1."
   ]
  },
  {
   "cell_type": "code",
   "execution_count": 45,
   "metadata": {},
   "outputs": [],
   "source": [
    "def sets_from_minifig(fig_num):\n",
    "    setsThemes_figsInv_byFig = df_setsThemes_figsInv[df_setsThemes_figsInv['fig_num'] == fig_num]\n",
    "    setsThemes_figsInv_byFig = setsThemes_figsInv_byFig[['set_num', 'version', 'name_sets', 'fig_num', 'fig_name']]\n",
    "    return setsThemes_figsInv_byFig.sort_values(by=['set_num', 'version'], ignore_index=True)"
   ]
  },
  {
   "cell_type": "code",
   "execution_count": 46,
   "metadata": {},
   "outputs": [
    {
     "data": {
      "text/html": [
       "<div>\n",
       "<style scoped>\n",
       "    .dataframe tbody tr th:only-of-type {\n",
       "        vertical-align: middle;\n",
       "    }\n",
       "\n",
       "    .dataframe tbody tr th {\n",
       "        vertical-align: top;\n",
       "    }\n",
       "\n",
       "    .dataframe thead th {\n",
       "        text-align: right;\n",
       "    }\n",
       "</style>\n",
       "<table border=\"1\" class=\"dataframe\">\n",
       "  <thead>\n",
       "    <tr style=\"text-align: right;\">\n",
       "      <th></th>\n",
       "      <th>set_num</th>\n",
       "      <th>version</th>\n",
       "      <th>name_sets</th>\n",
       "      <th>fig_num</th>\n",
       "      <th>fig_name</th>\n",
       "    </tr>\n",
       "  </thead>\n",
       "  <tbody>\n",
       "    <tr>\n",
       "      <th>0</th>\n",
       "      <td>30100-1</td>\n",
       "      <td>1</td>\n",
       "      <td>Andrea on the Beach</td>\n",
       "      <td>fig-001039</td>\n",
       "      <td>Andrea - Bright Light Orange Top, Light Aqua S...</td>\n",
       "    </tr>\n",
       "    <tr>\n",
       "      <th>1</th>\n",
       "      <td>30107-1</td>\n",
       "      <td>1</td>\n",
       "      <td>Birthday Party</td>\n",
       "      <td>fig-001039</td>\n",
       "      <td>Andrea - Bright Light Orange Top, Light Aqua S...</td>\n",
       "    </tr>\n",
       "    <tr>\n",
       "      <th>2</th>\n",
       "      <td>3061-1</td>\n",
       "      <td>1</td>\n",
       "      <td>City Park Café</td>\n",
       "      <td>fig-001039</td>\n",
       "      <td>Andrea - Bright Light Orange Top, Light Aqua S...</td>\n",
       "    </tr>\n",
       "  </tbody>\n",
       "</table>\n",
       "</div>"
      ],
      "text/plain": [
       "   set_num  version            name_sets     fig_num  \\\n",
       "0  30100-1        1  Andrea on the Beach  fig-001039   \n",
       "1  30107-1        1       Birthday Party  fig-001039   \n",
       "2   3061-1        1       City Park Café  fig-001039   \n",
       "\n",
       "                                            fig_name  \n",
       "0  Andrea - Bright Light Orange Top, Light Aqua S...  \n",
       "1  Andrea - Bright Light Orange Top, Light Aqua S...  \n",
       "2  Andrea - Bright Light Orange Top, Light Aqua S...  "
      ]
     },
     "execution_count": 46,
     "metadata": {},
     "output_type": "execute_result"
    }
   ],
   "source": [
    "sets_from_minifig('fig-001039')"
   ]
  },
  {
   "cell_type": "markdown",
   "metadata": {},
   "source": [
    "**Q25:** \n",
    "- Create a function called `set_parts` that takes as input the set number (as a string) and version number (as an integer) and outputs a DataFrame with each part in the set.  \n",
    "- The DataFrame should have the following columns/column names: `set_num`, `version`, `name_sets`, `year`, `name_themes`, `part_num`, `name_part`, `name_color`,`quantity`,`is_spare`.  \n",
    "- The Data should be sorted by `part_num` and then `name_color`.  \n",
    "- The index should go from 0 to n-1."
   ]
  },
  {
   "cell_type": "code",
   "execution_count": 48,
   "metadata": {},
   "outputs": [],
   "source": [
    "df_setsThemes_inv = df_sets_themes.merge(inventories, on='set_num').rename(columns={'id_y':'inventory_id'})\n",
    "\n",
    "df_parts_inv = parts.merge(inventory_parts, on='part_num').rename(columns={'name':'name_part'})\n",
    "df_partsInv_colors = df_parts_inv.merge(colors, how='left', left_on='color_id', right_on='id')\\\n",
    "                                 .rename(columns={'name':'name_color'})\n",
    "\n",
    "df_setsThemes_partsColors = df_setsThemes_inv.merge(df_partsInv_colors, on='inventory_id')\n",
    "\n",
    "def set_parts(set_num, version):\n",
    "    \n",
    "    setsThemes_partsColors_bySet = df_setsThemes_partsColors[(df_setsThemes_partsColors['set_num'] == set_num) & \\\n",
    "                                                        (df_setsThemes_partsColors['version'] == version)]\n",
    "    \n",
    "    setsThemes_partsColors_bySet = setsThemes_partsColors_bySet[['set_num', 'version', 'name_sets', 'year',\n",
    "                                                                 'name_themes', 'part_num', 'name_part', \n",
    "                                                                 'name_color', 'quantity', 'is_spare']]\n",
    "    \n",
    "    return setsThemes_partsColors_bySet.sort_values(by=['part_num', 'name_color'], ignore_index=True)"
   ]
  },
  {
   "cell_type": "code",
   "execution_count": 52,
   "metadata": {},
   "outputs": [
    {
     "data": {
      "text/html": [
       "<div>\n",
       "<style scoped>\n",
       "    .dataframe tbody tr th:only-of-type {\n",
       "        vertical-align: middle;\n",
       "    }\n",
       "\n",
       "    .dataframe tbody tr th {\n",
       "        vertical-align: top;\n",
       "    }\n",
       "\n",
       "    .dataframe thead th {\n",
       "        text-align: right;\n",
       "    }\n",
       "</style>\n",
       "<table border=\"1\" class=\"dataframe\">\n",
       "  <thead>\n",
       "    <tr style=\"text-align: right;\">\n",
       "      <th></th>\n",
       "      <th>set_num</th>\n",
       "      <th>version</th>\n",
       "      <th>name_sets</th>\n",
       "      <th>year</th>\n",
       "      <th>name_themes</th>\n",
       "      <th>part_num</th>\n",
       "      <th>name_part</th>\n",
       "      <th>name_color</th>\n",
       "      <th>quantity</th>\n",
       "      <th>is_spare</th>\n",
       "    </tr>\n",
       "  </thead>\n",
       "  <tbody>\n",
       "    <tr>\n",
       "      <th>0</th>\n",
       "      <td>75192-1</td>\n",
       "      <td>1</td>\n",
       "      <td>Millennium Falcon</td>\n",
       "      <td>2017</td>\n",
       "      <td>Ultimate Collector Series</td>\n",
       "      <td>10197</td>\n",
       "      <td>Technic Pin Connector Hub with 2 Perpendicular...</td>\n",
       "      <td>Dark Bluish Gray</td>\n",
       "      <td>3</td>\n",
       "      <td>f</td>\n",
       "    </tr>\n",
       "    <tr>\n",
       "      <th>1</th>\n",
       "      <td>75192-1</td>\n",
       "      <td>1</td>\n",
       "      <td>Millennium Falcon</td>\n",
       "      <td>2017</td>\n",
       "      <td>Ultimate Collector Series</td>\n",
       "      <td>10201</td>\n",
       "      <td>Bracket 1 x 2 - 1 x 4 [Rounded Corners]</td>\n",
       "      <td>Light Bluish Gray</td>\n",
       "      <td>12</td>\n",
       "      <td>f</td>\n",
       "    </tr>\n",
       "    <tr>\n",
       "      <th>2</th>\n",
       "      <td>75192-1</td>\n",
       "      <td>1</td>\n",
       "      <td>Millennium Falcon</td>\n",
       "      <td>2017</td>\n",
       "      <td>Ultimate Collector Series</td>\n",
       "      <td>10247</td>\n",
       "      <td>Plate Special 2 x 2 with 1 Pin Hole [Complete ...</td>\n",
       "      <td>Dark Bluish Gray</td>\n",
       "      <td>5</td>\n",
       "      <td>f</td>\n",
       "    </tr>\n",
       "    <tr>\n",
       "      <th>3</th>\n",
       "      <td>75192-1</td>\n",
       "      <td>1</td>\n",
       "      <td>Millennium Falcon</td>\n",
       "      <td>2017</td>\n",
       "      <td>Ultimate Collector Series</td>\n",
       "      <td>10247</td>\n",
       "      <td>Plate Special 2 x 2 with 1 Pin Hole [Complete ...</td>\n",
       "      <td>White</td>\n",
       "      <td>22</td>\n",
       "      <td>f</td>\n",
       "    </tr>\n",
       "    <tr>\n",
       "      <th>4</th>\n",
       "      <td>75192-1</td>\n",
       "      <td>1</td>\n",
       "      <td>Millennium Falcon</td>\n",
       "      <td>2017</td>\n",
       "      <td>Ultimate Collector Series</td>\n",
       "      <td>10314</td>\n",
       "      <td>Brick Curved 1 x 4 x 1 1/3 No Studs, Curved To...</td>\n",
       "      <td>Tan</td>\n",
       "      <td>3</td>\n",
       "      <td>f</td>\n",
       "    </tr>\n",
       "    <tr>\n",
       "      <th>...</th>\n",
       "      <td>...</td>\n",
       "      <td>...</td>\n",
       "      <td>...</td>\n",
       "      <td>...</td>\n",
       "      <td>...</td>\n",
       "      <td>...</td>\n",
       "      <td>...</td>\n",
       "      <td>...</td>\n",
       "      <td>...</td>\n",
       "      <td>...</td>\n",
       "    </tr>\n",
       "    <tr>\n",
       "      <th>725</th>\n",
       "      <td>75192-1</td>\n",
       "      <td>1</td>\n",
       "      <td>Millennium Falcon</td>\n",
       "      <td>2017</td>\n",
       "      <td>Ultimate Collector Series</td>\n",
       "      <td>99563</td>\n",
       "      <td>Tile Special 1 x 2 with Sloped Walls AKA Money...</td>\n",
       "      <td>Light Bluish Gray</td>\n",
       "      <td>70</td>\n",
       "      <td>f</td>\n",
       "    </tr>\n",
       "    <tr>\n",
       "      <th>726</th>\n",
       "      <td>75192-1</td>\n",
       "      <td>1</td>\n",
       "      <td>Millennium Falcon</td>\n",
       "      <td>2017</td>\n",
       "      <td>Ultimate Collector Series</td>\n",
       "      <td>99780</td>\n",
       "      <td>Bracket 1 x 2 - 1 x 2 Inverted</td>\n",
       "      <td>Black</td>\n",
       "      <td>6</td>\n",
       "      <td>f</td>\n",
       "    </tr>\n",
       "    <tr>\n",
       "      <th>727</th>\n",
       "      <td>75192-1</td>\n",
       "      <td>1</td>\n",
       "      <td>Millennium Falcon</td>\n",
       "      <td>2017</td>\n",
       "      <td>Ultimate Collector Series</td>\n",
       "      <td>99780</td>\n",
       "      <td>Bracket 1 x 2 - 1 x 2 Inverted</td>\n",
       "      <td>Dark Bluish Gray</td>\n",
       "      <td>25</td>\n",
       "      <td>f</td>\n",
       "    </tr>\n",
       "    <tr>\n",
       "      <th>728</th>\n",
       "      <td>75192-1</td>\n",
       "      <td>1</td>\n",
       "      <td>Millennium Falcon</td>\n",
       "      <td>2017</td>\n",
       "      <td>Ultimate Collector Series</td>\n",
       "      <td>99781</td>\n",
       "      <td>Bracket 1 x 2 - 1 x 2</td>\n",
       "      <td>Light Bluish Gray</td>\n",
       "      <td>2</td>\n",
       "      <td>f</td>\n",
       "    </tr>\n",
       "    <tr>\n",
       "      <th>729</th>\n",
       "      <td>75192-1</td>\n",
       "      <td>1</td>\n",
       "      <td>Millennium Falcon</td>\n",
       "      <td>2017</td>\n",
       "      <td>Ultimate Collector Series</td>\n",
       "      <td>99784</td>\n",
       "      <td>Bar 1 x 12 with 1 x 2 Plate End with Hollow St...</td>\n",
       "      <td>Light Bluish Gray</td>\n",
       "      <td>3</td>\n",
       "      <td>f</td>\n",
       "    </tr>\n",
       "  </tbody>\n",
       "</table>\n",
       "<p>730 rows × 10 columns</p>\n",
       "</div>"
      ],
      "text/plain": [
       "     set_num  version          name_sets  year                name_themes  \\\n",
       "0    75192-1        1  Millennium Falcon  2017  Ultimate Collector Series   \n",
       "1    75192-1        1  Millennium Falcon  2017  Ultimate Collector Series   \n",
       "2    75192-1        1  Millennium Falcon  2017  Ultimate Collector Series   \n",
       "3    75192-1        1  Millennium Falcon  2017  Ultimate Collector Series   \n",
       "4    75192-1        1  Millennium Falcon  2017  Ultimate Collector Series   \n",
       "..       ...      ...                ...   ...                        ...   \n",
       "725  75192-1        1  Millennium Falcon  2017  Ultimate Collector Series   \n",
       "726  75192-1        1  Millennium Falcon  2017  Ultimate Collector Series   \n",
       "727  75192-1        1  Millennium Falcon  2017  Ultimate Collector Series   \n",
       "728  75192-1        1  Millennium Falcon  2017  Ultimate Collector Series   \n",
       "729  75192-1        1  Millennium Falcon  2017  Ultimate Collector Series   \n",
       "\n",
       "    part_num                                          name_part  \\\n",
       "0      10197  Technic Pin Connector Hub with 2 Perpendicular...   \n",
       "1      10201            Bracket 1 x 2 - 1 x 4 [Rounded Corners]   \n",
       "2      10247  Plate Special 2 x 2 with 1 Pin Hole [Complete ...   \n",
       "3      10247  Plate Special 2 x 2 with 1 Pin Hole [Complete ...   \n",
       "4      10314  Brick Curved 1 x 4 x 1 1/3 No Studs, Curved To...   \n",
       "..       ...                                                ...   \n",
       "725    99563  Tile Special 1 x 2 with Sloped Walls AKA Money...   \n",
       "726    99780                     Bracket 1 x 2 - 1 x 2 Inverted   \n",
       "727    99780                     Bracket 1 x 2 - 1 x 2 Inverted   \n",
       "728    99781                              Bracket 1 x 2 - 1 x 2   \n",
       "729    99784  Bar 1 x 12 with 1 x 2 Plate End with Hollow St...   \n",
       "\n",
       "            name_color  quantity is_spare  \n",
       "0     Dark Bluish Gray         3        f  \n",
       "1    Light Bluish Gray        12        f  \n",
       "2     Dark Bluish Gray         5        f  \n",
       "3                White        22        f  \n",
       "4                  Tan         3        f  \n",
       "..                 ...       ...      ...  \n",
       "725  Light Bluish Gray        70        f  \n",
       "726              Black         6        f  \n",
       "727   Dark Bluish Gray        25        f  \n",
       "728  Light Bluish Gray         2        f  \n",
       "729  Light Bluish Gray         3        f  \n",
       "\n",
       "[730 rows x 10 columns]"
      ]
     },
     "execution_count": 52,
     "metadata": {},
     "output_type": "execute_result"
    }
   ],
   "source": [
    "set_parts('75192-1', 1)"
   ]
  },
  {
   "cell_type": "markdown",
   "metadata": {},
   "source": [
    "  **Q26:**  Get a list of all unique color names, sort by color name, and output as a list."
   ]
  },
  {
   "cell_type": "code",
   "execution_count": 53,
   "metadata": {},
   "outputs": [
    {
     "data": {
      "text/plain": [
       "['Aqua',\n",
       " 'Black',\n",
       " 'Blue',\n",
       " 'Blue-Violet',\n",
       " 'Bright Green',\n",
       " 'Bright Light Blue',\n",
       " 'Bright Light Orange',\n",
       " 'Bright Light Yellow',\n",
       " 'Bright Pink',\n",
       " 'Brown',\n",
       " 'Chrome Antique Brass',\n",
       " 'Chrome Black',\n",
       " 'Chrome Blue',\n",
       " 'Chrome Gold',\n",
       " 'Chrome Green',\n",
       " 'Chrome Pink',\n",
       " 'Chrome Silver',\n",
       " 'Copper',\n",
       " 'Coral',\n",
       " 'Dark Azure',\n",
       " 'Dark Blue',\n",
       " 'Dark Blue-Violet',\n",
       " 'Dark Bluish Gray',\n",
       " 'Dark Brown',\n",
       " 'Dark Flesh',\n",
       " 'Dark Gray',\n",
       " 'Dark Green',\n",
       " 'Dark Orange',\n",
       " 'Dark Pink',\n",
       " 'Dark Purple',\n",
       " 'Dark Red',\n",
       " 'Dark Tan',\n",
       " 'Dark Turquoise',\n",
       " 'Earth Orange',\n",
       " 'Fabuland Brown',\n",
       " 'Fabuland Orange',\n",
       " 'Flat Dark Gold',\n",
       " 'Flat Silver',\n",
       " 'Flesh',\n",
       " 'Glitter Trans-Clear',\n",
       " 'Glitter Trans-Dark Pink',\n",
       " 'Glitter Trans-Light Blue',\n",
       " 'Glitter Trans-Neon Green',\n",
       " 'Glitter Trans-Orange',\n",
       " 'Glitter Trans-Purple',\n",
       " 'Glow In Dark Opaque',\n",
       " 'Glow In Dark Trans',\n",
       " 'Glow in Dark White',\n",
       " 'Green',\n",
       " 'Lavender',\n",
       " 'Light Aqua',\n",
       " 'Light Blue',\n",
       " 'Light Bluish Gray',\n",
       " 'Light Flesh',\n",
       " 'Light Gray',\n",
       " 'Light Green',\n",
       " 'Light Lime',\n",
       " 'Light Orange',\n",
       " 'Light Pink',\n",
       " 'Light Purple',\n",
       " 'Light Salmon',\n",
       " 'Light Turquoise',\n",
       " 'Light Violet',\n",
       " 'Light Yellow',\n",
       " 'Lime',\n",
       " 'Maersk Blue',\n",
       " 'Magenta',\n",
       " 'Medium Azure',\n",
       " 'Medium Blue',\n",
       " 'Medium Dark Flesh',\n",
       " 'Medium Dark Pink',\n",
       " 'Medium Green',\n",
       " 'Medium Lavender',\n",
       " 'Medium Lime',\n",
       " 'Medium Orange',\n",
       " 'Medium Violet',\n",
       " 'Metal Blue',\n",
       " 'Metallic Gold',\n",
       " 'Metallic Green',\n",
       " 'Metallic Silver',\n",
       " 'Milky White',\n",
       " 'Modulex Aqua Green',\n",
       " 'Modulex Black',\n",
       " 'Modulex Brown',\n",
       " 'Modulex Buff',\n",
       " 'Modulex Charcoal Gray',\n",
       " 'Modulex Clear',\n",
       " 'Modulex Foil Dark Blue',\n",
       " 'Modulex Foil Dark Gray',\n",
       " 'Modulex Foil Dark Green',\n",
       " 'Modulex Foil Light Blue',\n",
       " 'Modulex Foil Light Gray',\n",
       " 'Modulex Foil Light Green',\n",
       " 'Modulex Foil Orange',\n",
       " 'Modulex Foil Red',\n",
       " 'Modulex Foil Violet',\n",
       " 'Modulex Foil Yellow',\n",
       " 'Modulex Lemon',\n",
       " 'Modulex Light Bluish Gray',\n",
       " 'Modulex Light Gray',\n",
       " 'Modulex Light Orange',\n",
       " 'Modulex Light Yellow',\n",
       " 'Modulex Medium Blue',\n",
       " 'Modulex Ochre Yellow',\n",
       " 'Modulex Olive Green',\n",
       " 'Modulex Orange',\n",
       " 'Modulex Pastel Blue',\n",
       " 'Modulex Pastel Green',\n",
       " 'Modulex Pink',\n",
       " 'Modulex Pink Red',\n",
       " 'Modulex Red',\n",
       " 'Modulex Teal Blue',\n",
       " 'Modulex Terracotta',\n",
       " 'Modulex Tile Blue',\n",
       " 'Modulex Tile Brown',\n",
       " 'Modulex Tile Gray',\n",
       " 'Modulex Violet',\n",
       " 'Modulex White',\n",
       " 'Olive Green',\n",
       " 'Orange',\n",
       " 'Pastel Blue',\n",
       " 'Pearl Dark Gray',\n",
       " 'Pearl Gold',\n",
       " 'Pearl Light Gold',\n",
       " 'Pearl Light Gray',\n",
       " 'Pearl Very Light Gray',\n",
       " 'Pearl White',\n",
       " 'Pink',\n",
       " 'Purple',\n",
       " 'Red',\n",
       " 'Reddish Brown',\n",
       " 'Reddish Lilac',\n",
       " 'Royal Blue',\n",
       " 'Rust',\n",
       " 'Salmon',\n",
       " 'Sand Blue',\n",
       " 'Sand Green',\n",
       " 'Sand Purple',\n",
       " 'Sand Red',\n",
       " 'Sky Blue',\n",
       " 'Speckle Black-Copper',\n",
       " 'Speckle Black-Gold',\n",
       " 'Speckle Black-Silver',\n",
       " 'Speckle DBGray-Silver',\n",
       " 'Tan',\n",
       " 'Trans-Black',\n",
       " 'Trans-Black IR Lens',\n",
       " 'Trans-Blue Opal',\n",
       " 'Trans-Bright Green',\n",
       " 'Trans-Brown Opal',\n",
       " 'Trans-Clear',\n",
       " 'Trans-Clear Opal',\n",
       " 'Trans-Dark Blue',\n",
       " 'Trans-Dark Blue Opal',\n",
       " 'Trans-Dark Pink',\n",
       " 'Trans-Fire Yellow',\n",
       " 'Trans-Flame Yellowish Orange',\n",
       " 'Trans-Green',\n",
       " 'Trans-Green Opal',\n",
       " 'Trans-Light Blue',\n",
       " 'Trans-Light Bright Green',\n",
       " 'Trans-Light Green',\n",
       " 'Trans-Light Purple',\n",
       " 'Trans-Light Royal Blue',\n",
       " 'Trans-Medium Blue',\n",
       " 'Trans-Medium Reddish Violet Opal',\n",
       " 'Trans-Neon Green',\n",
       " 'Trans-Neon Orange',\n",
       " 'Trans-Neon Yellow',\n",
       " 'Trans-Orange',\n",
       " 'Trans-Pink',\n",
       " 'Trans-Purple',\n",
       " 'Trans-Purple Opal',\n",
       " 'Trans-Red',\n",
       " 'Trans-Very Lt Blue',\n",
       " 'Trans-Yellow',\n",
       " 'Very Light Bluish Gray',\n",
       " 'Very Light Gray',\n",
       " 'Very Light Orange',\n",
       " 'Vibrant Yellow',\n",
       " 'Vintage Blue',\n",
       " 'Vintage Green',\n",
       " 'Vintage Red',\n",
       " 'Vintage Yellow',\n",
       " 'Violet',\n",
       " 'White',\n",
       " 'Yellow',\n",
       " 'Yellowish Green',\n",
       " '[No Color/Any Color]',\n",
       " '[Unknown]']"
      ]
     },
     "execution_count": 53,
     "metadata": {},
     "output_type": "execute_result"
    }
   ],
   "source": [
    "Q26 = colors['name'].sort_values().unique().tolist()\n",
    "Q26"
   ]
  },
  {
   "cell_type": "markdown",
   "metadata": {},
   "source": [
    "**Q27:** How many total transparent colors are in the `colors` DataFrame?"
   ]
  },
  {
   "cell_type": "code",
   "execution_count": 54,
   "metadata": {},
   "outputs": [
    {
     "data": {
      "text/plain": [
       "38"
      ]
     },
     "execution_count": 54,
     "metadata": {},
     "output_type": "execute_result"
    }
   ],
   "source": [
    "Q27 = len(colors[colors['is_trans'] == 't'].index)\n",
    "Q27"
   ]
  },
  {
   "cell_type": "markdown",
   "metadata": {},
   "source": [
    "**Q28:**  \n",
    "- Create a function called `get_part_colors` that takes as input a part number (as a string) and returns a DataFrame of all colors a part has appeared in.  \n",
    "- The output will return the corresponding rows from the `colors` DataFrame for each color.\n",
    "- The DataFrame should be sorted by color id  \n",
    "- **Do not reset the index.**"
   ]
  },
  {
   "cell_type": "code",
   "execution_count": 56,
   "metadata": {},
   "outputs": [],
   "source": [
    "df_parts_elems = parts.merge(elements, on='part_num').rename(columns={'name':'name_part'})\n",
    "df_partsElems_colors = df_parts_elems.merge(colors, how='left', left_on='color_id', right_on='id')\\\n",
    "                                     .rename(columns={'name':'name_color'})\n",
    "\n",
    "def get_part_colors(part_num):\n",
    "    \n",
    "    partsElems_colors_byPart = df_partsElems_colors[df_partsElems_colors['part_num'] == part_num]\\\n",
    "                                                   .sort_values(by='color_id')\n",
    "    \n",
    "    return pd.DataFrame(partsElems_colors_byPart['name_color'])"
   ]
  }
 ],
 "metadata": {
  "kernelspec": {
   "display_name": "Python 3",
   "language": "python",
   "name": "python3"
  },
  "language_info": {
   "codemirror_mode": {
    "name": "ipython",
    "version": 3
   },
   "file_extension": ".py",
   "mimetype": "text/x-python",
   "name": "python",
   "nbconvert_exporter": "python",
   "pygments_lexer": "ipython3",
   "version": "3.8.8"
  }
 },
 "nbformat": 4,
 "nbformat_minor": 4
}
