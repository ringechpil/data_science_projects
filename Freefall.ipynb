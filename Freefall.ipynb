{
 "cells": [
  {
   "cell_type": "code",
   "execution_count": 1,
   "id": "45957304",
   "metadata": {},
   "outputs": [],
   "source": [
    "import numpy as np\n",
    "import pandas as pd\n",
    "from scipy.stats import norm, linregress\n",
    "import matplotlib.pyplot as plt\n",
    "from math import erf, erfc"
   ]
  },
  {
   "cell_type": "code",
   "execution_count": 2,
   "id": "9193bf0d",
   "metadata": {
    "scrolled": true
   },
   "outputs": [
    {
     "data": {
      "text/html": [
       "<div>\n",
       "<style scoped>\n",
       "    .dataframe tbody tr th:only-of-type {\n",
       "        vertical-align: middle;\n",
       "    }\n",
       "\n",
       "    .dataframe tbody tr th {\n",
       "        vertical-align: top;\n",
       "    }\n",
       "\n",
       "    .dataframe thead th {\n",
       "        text-align: right;\n",
       "    }\n",
       "</style>\n",
       "<table border=\"1\" class=\"dataframe\">\n",
       "  <thead>\n",
       "    <tr style=\"text-align: right;\">\n",
       "      <th></th>\n",
       "      <th>h (m) = 0.703 m</th>\n",
       "      <th>h (m)  = 0.8635 m</th>\n",
       "      <th>h (m) = 0.535 m</th>\n",
       "      <th>h (m) = 0.606 m</th>\n",
       "    </tr>\n",
       "  </thead>\n",
       "  <tbody>\n",
       "    <tr>\n",
       "      <th>0</th>\n",
       "      <td>375.8</td>\n",
       "      <td>418.7</td>\n",
       "      <td>328.0</td>\n",
       "      <td>351.6</td>\n",
       "    </tr>\n",
       "    <tr>\n",
       "      <th>1</th>\n",
       "      <td>375.8</td>\n",
       "      <td>418.4</td>\n",
       "      <td>326.4</td>\n",
       "      <td>351.2</td>\n",
       "    </tr>\n",
       "    <tr>\n",
       "      <th>2</th>\n",
       "      <td>384.5</td>\n",
       "      <td>418.6</td>\n",
       "      <td>327.5</td>\n",
       "      <td>350.2</td>\n",
       "    </tr>\n",
       "    <tr>\n",
       "      <th>3</th>\n",
       "      <td>387.4</td>\n",
       "      <td>417.2</td>\n",
       "      <td>329.2</td>\n",
       "      <td>350.2</td>\n",
       "    </tr>\n",
       "    <tr>\n",
       "      <th>4</th>\n",
       "      <td>378.3</td>\n",
       "      <td>419.3</td>\n",
       "      <td>329.4</td>\n",
       "      <td>350.4</td>\n",
       "    </tr>\n",
       "    <tr>\n",
       "      <th>5</th>\n",
       "      <td>377.4</td>\n",
       "      <td>419.0</td>\n",
       "      <td>330.1</td>\n",
       "      <td>350.8</td>\n",
       "    </tr>\n",
       "    <tr>\n",
       "      <th>6</th>\n",
       "      <td>378.1</td>\n",
       "      <td>419.4</td>\n",
       "      <td>329.2</td>\n",
       "      <td>350.9</td>\n",
       "    </tr>\n",
       "    <tr>\n",
       "      <th>7</th>\n",
       "      <td>378.5</td>\n",
       "      <td>419.3</td>\n",
       "      <td>328.4</td>\n",
       "      <td>350.0</td>\n",
       "    </tr>\n",
       "    <tr>\n",
       "      <th>8</th>\n",
       "      <td>377.2</td>\n",
       "      <td>418.4</td>\n",
       "      <td>328.6</td>\n",
       "      <td>349.4</td>\n",
       "    </tr>\n",
       "    <tr>\n",
       "      <th>9</th>\n",
       "      <td>378.8</td>\n",
       "      <td>419.4</td>\n",
       "      <td>328.6</td>\n",
       "      <td>350.7</td>\n",
       "    </tr>\n",
       "    <tr>\n",
       "      <th>10</th>\n",
       "      <td>378.1</td>\n",
       "      <td>417.8</td>\n",
       "      <td>328.3</td>\n",
       "      <td>351.5</td>\n",
       "    </tr>\n",
       "    <tr>\n",
       "      <th>11</th>\n",
       "      <td>378.2</td>\n",
       "      <td>418.2</td>\n",
       "      <td>329.1</td>\n",
       "      <td>349.5</td>\n",
       "    </tr>\n",
       "    <tr>\n",
       "      <th>12</th>\n",
       "      <td>378.5</td>\n",
       "      <td>417.2</td>\n",
       "      <td>329.4</td>\n",
       "      <td>349.1</td>\n",
       "    </tr>\n",
       "    <tr>\n",
       "      <th>13</th>\n",
       "      <td>377.3</td>\n",
       "      <td>418.3</td>\n",
       "      <td>328.3</td>\n",
       "      <td>350.7</td>\n",
       "    </tr>\n",
       "    <tr>\n",
       "      <th>14</th>\n",
       "      <td>376.8</td>\n",
       "      <td>418.7</td>\n",
       "      <td>328.2</td>\n",
       "      <td>351.6</td>\n",
       "    </tr>\n",
       "    <tr>\n",
       "      <th>15</th>\n",
       "      <td>376.6</td>\n",
       "      <td>418.8</td>\n",
       "      <td>329.4</td>\n",
       "      <td>349.8</td>\n",
       "    </tr>\n",
       "    <tr>\n",
       "      <th>16</th>\n",
       "      <td>385.8</td>\n",
       "      <td>418.9</td>\n",
       "      <td>329.9</td>\n",
       "      <td>351.4</td>\n",
       "    </tr>\n",
       "    <tr>\n",
       "      <th>17</th>\n",
       "      <td>378.0</td>\n",
       "      <td>417.0</td>\n",
       "      <td>329.2</td>\n",
       "      <td>350.2</td>\n",
       "    </tr>\n",
       "    <tr>\n",
       "      <th>18</th>\n",
       "      <td>378.1</td>\n",
       "      <td>418.1</td>\n",
       "      <td>329.1</td>\n",
       "      <td>350.5</td>\n",
       "    </tr>\n",
       "    <tr>\n",
       "      <th>19</th>\n",
       "      <td>376.0</td>\n",
       "      <td>418.7</td>\n",
       "      <td>326.3</td>\n",
       "      <td>350.9</td>\n",
       "    </tr>\n",
       "    <tr>\n",
       "      <th>20</th>\n",
       "      <td>378.0</td>\n",
       "      <td>418.7</td>\n",
       "      <td>329.5</td>\n",
       "      <td>349.7</td>\n",
       "    </tr>\n",
       "    <tr>\n",
       "      <th>21</th>\n",
       "      <td>386.9</td>\n",
       "      <td>418.0</td>\n",
       "      <td>329.4</td>\n",
       "      <td>349.7</td>\n",
       "    </tr>\n",
       "    <tr>\n",
       "      <th>22</th>\n",
       "      <td>378.5</td>\n",
       "      <td>417.7</td>\n",
       "      <td>328.8</td>\n",
       "      <td>351.2</td>\n",
       "    </tr>\n",
       "    <tr>\n",
       "      <th>23</th>\n",
       "      <td>380.9</td>\n",
       "      <td>416.5</td>\n",
       "      <td>328.5</td>\n",
       "      <td>349.7</td>\n",
       "    </tr>\n",
       "    <tr>\n",
       "      <th>24</th>\n",
       "      <td>378.3</td>\n",
       "      <td>419.8</td>\n",
       "      <td>329.6</td>\n",
       "      <td>349.3</td>\n",
       "    </tr>\n",
       "    <tr>\n",
       "      <th>25</th>\n",
       "      <td>378.1</td>\n",
       "      <td>418.6</td>\n",
       "      <td>326.8</td>\n",
       "      <td>350.2</td>\n",
       "    </tr>\n",
       "    <tr>\n",
       "      <th>26</th>\n",
       "      <td>376.8</td>\n",
       "      <td>416.8</td>\n",
       "      <td>327.8</td>\n",
       "      <td>350.1</td>\n",
       "    </tr>\n",
       "    <tr>\n",
       "      <th>27</th>\n",
       "      <td>377.4</td>\n",
       "      <td>417.3</td>\n",
       "      <td>329.5</td>\n",
       "      <td>350.9</td>\n",
       "    </tr>\n",
       "    <tr>\n",
       "      <th>28</th>\n",
       "      <td>376.6</td>\n",
       "      <td>418.8</td>\n",
       "      <td>327.8</td>\n",
       "      <td>351.4</td>\n",
       "    </tr>\n",
       "    <tr>\n",
       "      <th>29</th>\n",
       "      <td>376.8</td>\n",
       "      <td>417.5</td>\n",
       "      <td>328.5</td>\n",
       "      <td>350.4</td>\n",
       "    </tr>\n",
       "    <tr>\n",
       "      <th>30</th>\n",
       "      <td>377.2</td>\n",
       "      <td>417.5</td>\n",
       "      <td>328.6</td>\n",
       "      <td>349.8</td>\n",
       "    </tr>\n",
       "    <tr>\n",
       "      <th>31</th>\n",
       "      <td>378.8</td>\n",
       "      <td>418.7</td>\n",
       "      <td>329.5</td>\n",
       "      <td>350.9</td>\n",
       "    </tr>\n",
       "    <tr>\n",
       "      <th>32</th>\n",
       "      <td>376.0</td>\n",
       "      <td>418.5</td>\n",
       "      <td>329.3</td>\n",
       "      <td>350.5</td>\n",
       "    </tr>\n",
       "    <tr>\n",
       "      <th>33</th>\n",
       "      <td>376.8</td>\n",
       "      <td>416.0</td>\n",
       "      <td>328.5</td>\n",
       "      <td>350.8</td>\n",
       "    </tr>\n",
       "    <tr>\n",
       "      <th>34</th>\n",
       "      <td>377.1</td>\n",
       "      <td>417.7</td>\n",
       "      <td>329.1</td>\n",
       "      <td>350.7</td>\n",
       "    </tr>\n",
       "    <tr>\n",
       "      <th>35</th>\n",
       "      <td>377.6</td>\n",
       "      <td>417.7</td>\n",
       "      <td>329.7</td>\n",
       "      <td>350.8</td>\n",
       "    </tr>\n",
       "    <tr>\n",
       "      <th>36</th>\n",
       "      <td>377.0</td>\n",
       "      <td>417.1</td>\n",
       "      <td>329.7</td>\n",
       "      <td>350.4</td>\n",
       "    </tr>\n",
       "    <tr>\n",
       "      <th>37</th>\n",
       "      <td>377.2</td>\n",
       "      <td>419.3</td>\n",
       "      <td>329.2</td>\n",
       "      <td>350.2</td>\n",
       "    </tr>\n",
       "    <tr>\n",
       "      <th>38</th>\n",
       "      <td>375.0</td>\n",
       "      <td>419.1</td>\n",
       "      <td>328.5</td>\n",
       "      <td>350.8</td>\n",
       "    </tr>\n",
       "    <tr>\n",
       "      <th>39</th>\n",
       "      <td>376.5</td>\n",
       "      <td>420.0</td>\n",
       "      <td>328.1</td>\n",
       "      <td>349.3</td>\n",
       "    </tr>\n",
       "  </tbody>\n",
       "</table>\n",
       "</div>"
      ],
      "text/plain": [
       "    h (m) = 0.703 m  h (m)  = 0.8635 m  h (m) = 0.535 m  h (m) = 0.606 m\n",
       "0             375.8              418.7            328.0            351.6\n",
       "1             375.8              418.4            326.4            351.2\n",
       "2             384.5              418.6            327.5            350.2\n",
       "3             387.4              417.2            329.2            350.2\n",
       "4             378.3              419.3            329.4            350.4\n",
       "5             377.4              419.0            330.1            350.8\n",
       "6             378.1              419.4            329.2            350.9\n",
       "7             378.5              419.3            328.4            350.0\n",
       "8             377.2              418.4            328.6            349.4\n",
       "9             378.8              419.4            328.6            350.7\n",
       "10            378.1              417.8            328.3            351.5\n",
       "11            378.2              418.2            329.1            349.5\n",
       "12            378.5              417.2            329.4            349.1\n",
       "13            377.3              418.3            328.3            350.7\n",
       "14            376.8              418.7            328.2            351.6\n",
       "15            376.6              418.8            329.4            349.8\n",
       "16            385.8              418.9            329.9            351.4\n",
       "17            378.0              417.0            329.2            350.2\n",
       "18            378.1              418.1            329.1            350.5\n",
       "19            376.0              418.7            326.3            350.9\n",
       "20            378.0              418.7            329.5            349.7\n",
       "21            386.9              418.0            329.4            349.7\n",
       "22            378.5              417.7            328.8            351.2\n",
       "23            380.9              416.5            328.5            349.7\n",
       "24            378.3              419.8            329.6            349.3\n",
       "25            378.1              418.6            326.8            350.2\n",
       "26            376.8              416.8            327.8            350.1\n",
       "27            377.4              417.3            329.5            350.9\n",
       "28            376.6              418.8            327.8            351.4\n",
       "29            376.8              417.5            328.5            350.4\n",
       "30            377.2              417.5            328.6            349.8\n",
       "31            378.8              418.7            329.5            350.9\n",
       "32            376.0              418.5            329.3            350.5\n",
       "33            376.8              416.0            328.5            350.8\n",
       "34            377.1              417.7            329.1            350.7\n",
       "35            377.6              417.7            329.7            350.8\n",
       "36            377.0              417.1            329.7            350.4\n",
       "37            377.2              419.3            329.2            350.2\n",
       "38            375.0              419.1            328.5            350.8\n",
       "39            376.5              420.0            328.1            349.3"
      ]
     },
     "execution_count": 2,
     "metadata": {},
     "output_type": "execute_result"
    }
   ],
   "source": [
    "df = pd.read_excel('freefall.xlsx')\n",
    "df"
   ]
  },
  {
   "cell_type": "markdown",
   "id": "c5edda3c",
   "metadata": {},
   "source": [
    "In order to implement Chauvenet's Criterion to filter out the outilers, we first implement the formula\n",
    "\n",
    "$$P_z = 1 - \\frac{1}{4N},$$\n",
    "\n",
    "where $N$ is the number of observations. We then find the value of the Quantile function for the Normal distribution\n",
    "\n",
    "$$D_\\max = Q(P_z).$$\n",
    "\n",
    "The outliers will be all the data satisfying \n",
    "\n",
    "$$\\frac{|x-\\bar{x}|}{s_x} > D_\\max,$$\n",
    "\n",
    "where $\\bar{x}$ and $s_x$ are, respectivelly, the mean and the std of the data."
   ]
  },
  {
   "cell_type": "code",
   "execution_count": 3,
   "id": "8ad9fed8",
   "metadata": {},
   "outputs": [],
   "source": [
    "def chauv_crit_filter(data):\n",
    "    \n",
    "    N = len(data)\n",
    "    P_z = 1 - 1/(4*N)\n",
    "    D_max = norm.ppf(P_z)\n",
    "    \n",
    "    data_z = (data - data.mean()).abs()/data.std()\n",
    "    return np.where(data_z > D_max, np.nan, data)"
   ]
  },
  {
   "cell_type": "code",
   "execution_count": 4,
   "id": "a59f89d4",
   "metadata": {},
   "outputs": [],
   "source": [
    "data_1 = chauv_crit_filter(df['h (m) = 0.703 m'])\n",
    "data_2 = chauv_crit_filter(df['h (m)  = 0.8635 m'])\n",
    "data_3 = chauv_crit_filter(df['h (m) = 0.535 m'])\n",
    "data_4 = chauv_crit_filter(df['h (m) = 0.606 m'])\n",
    "data = np.array([data_1, data_2, data_3, data_4]).T"
   ]
  },
  {
   "cell_type": "code",
   "execution_count": 5,
   "id": "7038cbdd",
   "metadata": {
    "scrolled": true
   },
   "outputs": [
    {
     "data": {
      "text/html": [
       "<div>\n",
       "<style scoped>\n",
       "    .dataframe tbody tr th:only-of-type {\n",
       "        vertical-align: middle;\n",
       "    }\n",
       "\n",
       "    .dataframe tbody tr th {\n",
       "        vertical-align: top;\n",
       "    }\n",
       "\n",
       "    .dataframe thead th {\n",
       "        text-align: right;\n",
       "    }\n",
       "</style>\n",
       "<table border=\"1\" class=\"dataframe\">\n",
       "  <thead>\n",
       "    <tr style=\"text-align: right;\">\n",
       "      <th></th>\n",
       "      <th>h (m) = 0.703 m</th>\n",
       "      <th>h (m)  = 0.8635 m</th>\n",
       "      <th>h (m) = 0.535 m</th>\n",
       "      <th>h (m) = 0.606 m</th>\n",
       "    </tr>\n",
       "  </thead>\n",
       "  <tbody>\n",
       "    <tr>\n",
       "      <th>0</th>\n",
       "      <td>375.8</td>\n",
       "      <td>418.7</td>\n",
       "      <td>328.0</td>\n",
       "      <td>351.6</td>\n",
       "    </tr>\n",
       "    <tr>\n",
       "      <th>1</th>\n",
       "      <td>375.8</td>\n",
       "      <td>418.4</td>\n",
       "      <td>NaN</td>\n",
       "      <td>351.2</td>\n",
       "    </tr>\n",
       "    <tr>\n",
       "      <th>2</th>\n",
       "      <td>384.5</td>\n",
       "      <td>418.6</td>\n",
       "      <td>327.5</td>\n",
       "      <td>350.2</td>\n",
       "    </tr>\n",
       "    <tr>\n",
       "      <th>3</th>\n",
       "      <td>NaN</td>\n",
       "      <td>417.2</td>\n",
       "      <td>329.2</td>\n",
       "      <td>350.2</td>\n",
       "    </tr>\n",
       "    <tr>\n",
       "      <th>4</th>\n",
       "      <td>378.3</td>\n",
       "      <td>419.3</td>\n",
       "      <td>329.4</td>\n",
       "      <td>350.4</td>\n",
       "    </tr>\n",
       "    <tr>\n",
       "      <th>5</th>\n",
       "      <td>377.4</td>\n",
       "      <td>419.0</td>\n",
       "      <td>330.1</td>\n",
       "      <td>350.8</td>\n",
       "    </tr>\n",
       "    <tr>\n",
       "      <th>6</th>\n",
       "      <td>378.1</td>\n",
       "      <td>419.4</td>\n",
       "      <td>329.2</td>\n",
       "      <td>350.9</td>\n",
       "    </tr>\n",
       "    <tr>\n",
       "      <th>7</th>\n",
       "      <td>378.5</td>\n",
       "      <td>419.3</td>\n",
       "      <td>328.4</td>\n",
       "      <td>350.0</td>\n",
       "    </tr>\n",
       "    <tr>\n",
       "      <th>8</th>\n",
       "      <td>377.2</td>\n",
       "      <td>418.4</td>\n",
       "      <td>328.6</td>\n",
       "      <td>349.4</td>\n",
       "    </tr>\n",
       "    <tr>\n",
       "      <th>9</th>\n",
       "      <td>378.8</td>\n",
       "      <td>419.4</td>\n",
       "      <td>328.6</td>\n",
       "      <td>350.7</td>\n",
       "    </tr>\n",
       "    <tr>\n",
       "      <th>10</th>\n",
       "      <td>378.1</td>\n",
       "      <td>417.8</td>\n",
       "      <td>328.3</td>\n",
       "      <td>351.5</td>\n",
       "    </tr>\n",
       "    <tr>\n",
       "      <th>11</th>\n",
       "      <td>378.2</td>\n",
       "      <td>418.2</td>\n",
       "      <td>329.1</td>\n",
       "      <td>349.5</td>\n",
       "    </tr>\n",
       "    <tr>\n",
       "      <th>12</th>\n",
       "      <td>378.5</td>\n",
       "      <td>417.2</td>\n",
       "      <td>329.4</td>\n",
       "      <td>349.1</td>\n",
       "    </tr>\n",
       "    <tr>\n",
       "      <th>13</th>\n",
       "      <td>377.3</td>\n",
       "      <td>418.3</td>\n",
       "      <td>328.3</td>\n",
       "      <td>350.7</td>\n",
       "    </tr>\n",
       "    <tr>\n",
       "      <th>14</th>\n",
       "      <td>376.8</td>\n",
       "      <td>418.7</td>\n",
       "      <td>328.2</td>\n",
       "      <td>351.6</td>\n",
       "    </tr>\n",
       "    <tr>\n",
       "      <th>15</th>\n",
       "      <td>376.6</td>\n",
       "      <td>418.8</td>\n",
       "      <td>329.4</td>\n",
       "      <td>349.8</td>\n",
       "    </tr>\n",
       "    <tr>\n",
       "      <th>16</th>\n",
       "      <td>NaN</td>\n",
       "      <td>418.9</td>\n",
       "      <td>329.9</td>\n",
       "      <td>351.4</td>\n",
       "    </tr>\n",
       "    <tr>\n",
       "      <th>17</th>\n",
       "      <td>378.0</td>\n",
       "      <td>417.0</td>\n",
       "      <td>329.2</td>\n",
       "      <td>350.2</td>\n",
       "    </tr>\n",
       "    <tr>\n",
       "      <th>18</th>\n",
       "      <td>378.1</td>\n",
       "      <td>418.1</td>\n",
       "      <td>329.1</td>\n",
       "      <td>350.5</td>\n",
       "    </tr>\n",
       "    <tr>\n",
       "      <th>19</th>\n",
       "      <td>376.0</td>\n",
       "      <td>418.7</td>\n",
       "      <td>NaN</td>\n",
       "      <td>350.9</td>\n",
       "    </tr>\n",
       "    <tr>\n",
       "      <th>20</th>\n",
       "      <td>378.0</td>\n",
       "      <td>418.7</td>\n",
       "      <td>329.5</td>\n",
       "      <td>349.7</td>\n",
       "    </tr>\n",
       "    <tr>\n",
       "      <th>21</th>\n",
       "      <td>NaN</td>\n",
       "      <td>418.0</td>\n",
       "      <td>329.4</td>\n",
       "      <td>349.7</td>\n",
       "    </tr>\n",
       "    <tr>\n",
       "      <th>22</th>\n",
       "      <td>378.5</td>\n",
       "      <td>417.7</td>\n",
       "      <td>328.8</td>\n",
       "      <td>351.2</td>\n",
       "    </tr>\n",
       "    <tr>\n",
       "      <th>23</th>\n",
       "      <td>380.9</td>\n",
       "      <td>416.5</td>\n",
       "      <td>328.5</td>\n",
       "      <td>349.7</td>\n",
       "    </tr>\n",
       "    <tr>\n",
       "      <th>24</th>\n",
       "      <td>378.3</td>\n",
       "      <td>419.8</td>\n",
       "      <td>329.6</td>\n",
       "      <td>349.3</td>\n",
       "    </tr>\n",
       "    <tr>\n",
       "      <th>25</th>\n",
       "      <td>378.1</td>\n",
       "      <td>418.6</td>\n",
       "      <td>326.8</td>\n",
       "      <td>350.2</td>\n",
       "    </tr>\n",
       "    <tr>\n",
       "      <th>26</th>\n",
       "      <td>376.8</td>\n",
       "      <td>416.8</td>\n",
       "      <td>327.8</td>\n",
       "      <td>350.1</td>\n",
       "    </tr>\n",
       "    <tr>\n",
       "      <th>27</th>\n",
       "      <td>377.4</td>\n",
       "      <td>417.3</td>\n",
       "      <td>329.5</td>\n",
       "      <td>350.9</td>\n",
       "    </tr>\n",
       "    <tr>\n",
       "      <th>28</th>\n",
       "      <td>376.6</td>\n",
       "      <td>418.8</td>\n",
       "      <td>327.8</td>\n",
       "      <td>351.4</td>\n",
       "    </tr>\n",
       "    <tr>\n",
       "      <th>29</th>\n",
       "      <td>376.8</td>\n",
       "      <td>417.5</td>\n",
       "      <td>328.5</td>\n",
       "      <td>350.4</td>\n",
       "    </tr>\n",
       "    <tr>\n",
       "      <th>30</th>\n",
       "      <td>377.2</td>\n",
       "      <td>417.5</td>\n",
       "      <td>328.6</td>\n",
       "      <td>349.8</td>\n",
       "    </tr>\n",
       "    <tr>\n",
       "      <th>31</th>\n",
       "      <td>378.8</td>\n",
       "      <td>418.7</td>\n",
       "      <td>329.5</td>\n",
       "      <td>350.9</td>\n",
       "    </tr>\n",
       "    <tr>\n",
       "      <th>32</th>\n",
       "      <td>376.0</td>\n",
       "      <td>418.5</td>\n",
       "      <td>329.3</td>\n",
       "      <td>350.5</td>\n",
       "    </tr>\n",
       "    <tr>\n",
       "      <th>33</th>\n",
       "      <td>376.8</td>\n",
       "      <td>416.0</td>\n",
       "      <td>328.5</td>\n",
       "      <td>350.8</td>\n",
       "    </tr>\n",
       "    <tr>\n",
       "      <th>34</th>\n",
       "      <td>377.1</td>\n",
       "      <td>417.7</td>\n",
       "      <td>329.1</td>\n",
       "      <td>350.7</td>\n",
       "    </tr>\n",
       "    <tr>\n",
       "      <th>35</th>\n",
       "      <td>377.6</td>\n",
       "      <td>417.7</td>\n",
       "      <td>329.7</td>\n",
       "      <td>350.8</td>\n",
       "    </tr>\n",
       "    <tr>\n",
       "      <th>36</th>\n",
       "      <td>377.0</td>\n",
       "      <td>417.1</td>\n",
       "      <td>329.7</td>\n",
       "      <td>350.4</td>\n",
       "    </tr>\n",
       "    <tr>\n",
       "      <th>37</th>\n",
       "      <td>377.2</td>\n",
       "      <td>419.3</td>\n",
       "      <td>329.2</td>\n",
       "      <td>350.2</td>\n",
       "    </tr>\n",
       "    <tr>\n",
       "      <th>38</th>\n",
       "      <td>375.0</td>\n",
       "      <td>419.1</td>\n",
       "      <td>328.5</td>\n",
       "      <td>350.8</td>\n",
       "    </tr>\n",
       "    <tr>\n",
       "      <th>39</th>\n",
       "      <td>376.5</td>\n",
       "      <td>420.0</td>\n",
       "      <td>328.1</td>\n",
       "      <td>349.3</td>\n",
       "    </tr>\n",
       "  </tbody>\n",
       "</table>\n",
       "</div>"
      ],
      "text/plain": [
       "    h (m) = 0.703 m  h (m)  = 0.8635 m  h (m) = 0.535 m  h (m) = 0.606 m\n",
       "0             375.8              418.7            328.0            351.6\n",
       "1             375.8              418.4              NaN            351.2\n",
       "2             384.5              418.6            327.5            350.2\n",
       "3               NaN              417.2            329.2            350.2\n",
       "4             378.3              419.3            329.4            350.4\n",
       "5             377.4              419.0            330.1            350.8\n",
       "6             378.1              419.4            329.2            350.9\n",
       "7             378.5              419.3            328.4            350.0\n",
       "8             377.2              418.4            328.6            349.4\n",
       "9             378.8              419.4            328.6            350.7\n",
       "10            378.1              417.8            328.3            351.5\n",
       "11            378.2              418.2            329.1            349.5\n",
       "12            378.5              417.2            329.4            349.1\n",
       "13            377.3              418.3            328.3            350.7\n",
       "14            376.8              418.7            328.2            351.6\n",
       "15            376.6              418.8            329.4            349.8\n",
       "16              NaN              418.9            329.9            351.4\n",
       "17            378.0              417.0            329.2            350.2\n",
       "18            378.1              418.1            329.1            350.5\n",
       "19            376.0              418.7              NaN            350.9\n",
       "20            378.0              418.7            329.5            349.7\n",
       "21              NaN              418.0            329.4            349.7\n",
       "22            378.5              417.7            328.8            351.2\n",
       "23            380.9              416.5            328.5            349.7\n",
       "24            378.3              419.8            329.6            349.3\n",
       "25            378.1              418.6            326.8            350.2\n",
       "26            376.8              416.8            327.8            350.1\n",
       "27            377.4              417.3            329.5            350.9\n",
       "28            376.6              418.8            327.8            351.4\n",
       "29            376.8              417.5            328.5            350.4\n",
       "30            377.2              417.5            328.6            349.8\n",
       "31            378.8              418.7            329.5            350.9\n",
       "32            376.0              418.5            329.3            350.5\n",
       "33            376.8              416.0            328.5            350.8\n",
       "34            377.1              417.7            329.1            350.7\n",
       "35            377.6              417.7            329.7            350.8\n",
       "36            377.0              417.1            329.7            350.4\n",
       "37            377.2              419.3            329.2            350.2\n",
       "38            375.0              419.1            328.5            350.8\n",
       "39            376.5              420.0            328.1            349.3"
      ]
     },
     "execution_count": 5,
     "metadata": {},
     "output_type": "execute_result"
    }
   ],
   "source": [
    "columns = ['h (m) = 0.703 m', \n",
    "           'h (m)  = 0.8635 m', \n",
    "           'h (m) = 0.535 m',\n",
    "           'h (m) = 0.606 m']\n",
    "\n",
    "data_df = pd.DataFrame(data, columns=columns)\n",
    "data_df"
   ]
  },
  {
   "cell_type": "markdown",
   "id": "e6abda08",
   "metadata": {},
   "source": [
    "### 1st Column"
   ]
  },
  {
   "cell_type": "code",
   "execution_count": 8,
   "id": "139805fb",
   "metadata": {},
   "outputs": [
    {
     "data": {
      "image/png": "[encoded data removed]",
      "text/plain": [
       "<Figure size 432x288 with 1 Axes>"
      ]
     },
     "metadata": {
      "needs_background": "light"
     },
     "output_type": "display_data"
    }
   ],
   "source": [
    "time = data_df['h (m) = 0.703 m'].dropna().values\n",
    "\n",
    "#plotting the histogram \n",
    "O, bins, patches = plt.hist(time, 5, color='y')\n",
    "plt.title('Histogram for Time Data, 1st Column')\n",
    "plt.xlabel('Time $t\\ (ms)$')\n",
    "plt.ylabel('Frequency')\n",
    "plt.savefig('distribution_hist_1.jpg')\n",
    "plt.show()"
   ]
  },
  {
   "cell_type": "code",
   "execution_count": 10,
   "id": "3a95338f",
   "metadata": {
    "scrolled": true
   },
   "outputs": [
    {
     "data": {
      "image/png": "[encoded data removed]",
      "text/plain": [
       "<Figure size 432x288 with 1 Axes>"
      ]
     },
     "metadata": {
      "needs_background": "light"
     },
     "output_type": "display_data"
    }
   ],
   "source": [
    "time = data_df['h (m) = 0.703 m'].dropna().values\n",
    "mu, sigma = norm.fit(time)\n",
    "\n",
    "#plotting the histogram with gaussian curve\n",
    "t = time.max() - time.min()\n",
    "x = np.arange(time.min() - 5, time.max() + .5, t/50.)\n",
    "y = norm.pdf(x, mu, sigma)\n",
    "\n",
    "textstr = '\\n'.join((f'mean = {round(mu, 4)}', \n",
    "                    f'std = {round(sigma, 4)}'))\n",
    "plt.text(380, .13, textstr)\n",
    "\n",
    "plt.plot(x, y)\n",
    "plt.hist(time, 5, density=True, color='y')\n",
    "plt.title('Distribution of Time Data, 1st Column')\n",
    "plt.legend(['Gaussian','Measurement'])\n",
    "plt.xlabel('Time $t\\ (ms)$')\n",
    "plt.ylabel('Frequency')\n",
    "plt.savefig('distribution_gauss_figure_1.jpg')\n",
    "plt.show()"
   ]
  },
  {
   "cell_type": "markdown",
   "id": "8b2db0d6",
   "metadata": {},
   "source": [
    "We perfrom the $\\chi^2$ test to check if our data really matches the Gauissian distribution.\n",
    "\n",
    "First, we write some helper functions."
   ]
  },
  {
   "cell_type": "code",
   "execution_count": 11,
   "id": "8a63bb34",
   "metadata": {},
   "outputs": [],
   "source": [
    "def Q(x):\n",
    "    return norm.cdf(np.abs(x)) - .5"
   ]
  },
  {
   "cell_type": "code",
   "execution_count": 12,
   "id": "48affc53",
   "metadata": {},
   "outputs": [],
   "source": [
    "def calc_probs(t1, t2):\n",
    "    \n",
    "    if t1 <= 0 and t2 <= 0:\n",
    "        return Q(t1) - Q(t2)\n",
    "    \n",
    "    elif t1 <= 0 and t2 > 0:\n",
    "        return Q(t1) + Q(t2)\n",
    "    \n",
    "    else:\n",
    "        return Q(t2) - Q(t1)"
   ]
  },
  {
   "cell_type": "code",
   "execution_count": 13,
   "id": "58879d98",
   "metadata": {},
   "outputs": [],
   "source": [
    "def chi_sq_redux(O, E, d):\n",
    "    ch = np.sum(((O - E)**2)/E)/d\n",
    "    print('Reduced chi-square:', np.round(ch, 2))"
   ]
  },
  {
   "cell_type": "code",
   "execution_count": 14,
   "id": "63522db0",
   "metadata": {
    "scrolled": true
   },
   "outputs": [
    {
     "data": {
      "text/plain": [
       "array([-1.67459964, -0.46840748,  0.73778468,  1.94397684,  3.150169  ,\n",
       "        4.35636116])"
      ]
     },
     "execution_count": 14,
     "metadata": {},
     "output_type": "execute_result"
    }
   ],
   "source": [
    "vals = (bins - mu)/sigma\n",
    "vals"
   ]
  },
  {
   "cell_type": "code",
   "execution_count": 15,
   "id": "a45d5715",
   "metadata": {
    "scrolled": true
   },
   "outputs": [
    {
     "data": {
      "text/plain": [
       "array([0.27, 0.45, 0.2 , 0.03, 0.  ])"
      ]
     },
     "execution_count": 15,
     "metadata": {},
     "output_type": "execute_result"
    }
   ],
   "source": [
    "#bin probabilities\n",
    "probs = np.array([np.round(calc_probs(vals[i], vals[i+1]), 2) for i in range(len(vals) - 1)])\n",
    "probs"
   ]
  },
  {
   "cell_type": "code",
   "execution_count": 16,
   "id": "5a894da2",
   "metadata": {},
   "outputs": [
    {
     "data": {
      "text/plain": [
       "array([12., 21.,  2.,  1.,  1.])"
      ]
     },
     "execution_count": 16,
     "metadata": {},
     "output_type": "execute_result"
    }
   ],
   "source": [
    "O"
   ]
  },
  {
   "cell_type": "markdown",
   "id": "c6ee5d5d",
   "metadata": {},
   "source": [
    "We omitt the bins with small probabilities. Thus, we work with 4 bins and 36 datapoints."
   ]
  },
  {
   "cell_type": "code",
   "execution_count": 17,
   "id": "e7bdfb25",
   "metadata": {},
   "outputs": [
    {
     "data": {
      "text/plain": [
       "array([ 9.72, 16.2 ,  7.2 ,  1.08,  0.  ])"
      ]
     },
     "execution_count": 17,
     "metadata": {},
     "output_type": "execute_result"
    }
   ],
   "source": [
    "N = 36\n",
    "E = N*np.array(probs)\n",
    "E"
   ]
  },
  {
   "cell_type": "code",
   "execution_count": 18,
   "id": "b0cff25b",
   "metadata": {},
   "outputs": [
    {
     "name": "stdout",
     "output_type": "stream",
     "text": [
      "The observed number of samples: [12. 21.  2.  1.]\n",
      "The expected number of samples: [ 9.72 16.2   7.2   1.08]\n",
      "The degrees of freedom: 1\n"
     ]
    }
   ],
   "source": [
    "#observed and expected values\n",
    "idx = probs != 0\n",
    "O = O[idx]\n",
    "E = E[idx]\n",
    "\n",
    "#the degrees of freedom\n",
    "n = len(O)\n",
    "d = n - 3\n",
    "\n",
    "print('The observed number of samples:', O)\n",
    "print('The expected number of samples:', E)\n",
    "print('The degrees of freedom:', d)"
   ]
  },
  {
   "cell_type": "code",
   "execution_count": 19,
   "id": "f375afa5",
   "metadata": {},
   "outputs": [
    {
     "name": "stdout",
     "output_type": "stream",
     "text": [
      "Reduced chi-square: 5.72\n"
     ]
    }
   ],
   "source": [
    "chi_sq_redux(O, E, d)"
   ]
  },
  {
   "cell_type": "markdown",
   "id": "b9d4a95c",
   "metadata": {},
   "source": [
    "For the given $\\tilde{\\chi}^2$ score, we find the p-value to be $\\approx 0.05$. This means that even at 5% significance level we might accept that the time data follows the Gaussian distribution."
   ]
  },
  {
   "cell_type": "markdown",
   "id": "ced2cf3a",
   "metadata": {},
   "source": [
    "### 2nd Column"
   ]
  },
  {
   "cell_type": "code",
   "execution_count": 20,
   "id": "fbd16da0",
   "metadata": {},
   "outputs": [
    {
     "data": {
      "image/png": "[encoded data removed]",
      "text/plain": [
       "<Figure size 432x288 with 1 Axes>"
      ]
     },
     "metadata": {
      "needs_background": "light"
     },
     "output_type": "display_data"
    }
   ],
   "source": [
    "time = data_df['h (m)  = 0.8635 m'].dropna().values\n",
    "\n",
    "#plotting the histogram \n",
    "O, bins, patches = plt.hist(time, 4, color='y')\n",
    "plt.title('Histogram for Time Data, 2nd Column')\n",
    "plt.xlabel('Time $t\\ (ms)$')\n",
    "plt.ylabel('Frequency')\n",
    "plt.savefig('distribution_hist_2.jpg')\n",
    "plt.show()"
   ]
  },
  {
   "cell_type": "code",
   "execution_count": 21,
   "id": "546756db",
   "metadata": {},
   "outputs": [
    {
     "data": {
      "image/png": "[encoded data removed]",
      "text/plain": [
       "<Figure size 432x288 with 1 Axes>"
      ]
     },
     "metadata": {
      "needs_background": "light"
     },
     "output_type": "display_data"
    }
   ],
   "source": [
    "time = data_df['h (m)  = 0.8635 m'].dropna().values\n",
    "mu, sigma = norm.fit(time)\n",
    "\n",
    "#plotting the histogram with gaussian curve\n",
    "t = time.max() - time.min()\n",
    "x = np.arange(time.min() - 1.5, time.max() + 2, t/50.)\n",
    "y = norm.pdf(x, mu, sigma)\n",
    "\n",
    "textstr = '\\n'.join((f'mean = {round(mu, 4)}', \n",
    "                    f'std = {round(sigma, 4)}'))\n",
    "plt.text(415.5, .35, textstr)\n",
    "\n",
    "plt.plot(x, y)\n",
    "plt.hist(time, 4, density=True, color='y')\n",
    "plt.title('Distribution of Time Data, 2nd Column')\n",
    "plt.legend(['Gaussian','Measurement'])\n",
    "plt.xlabel('Time $t\\ (ms)$')\n",
    "plt.ylabel('Frequency')\n",
    "plt.savefig('distribution_gauss_figure_2.jpg')\n",
    "plt.show()"
   ]
  },
  {
   "cell_type": "code",
   "execution_count": 22,
   "id": "9819345a",
   "metadata": {},
   "outputs": [
    {
     "data": {
      "text/plain": [
       "array([-2.47302431, -1.38238515, -0.29174598,  0.79889319,  1.88953236])"
      ]
     },
     "execution_count": 22,
     "metadata": {},
     "output_type": "execute_result"
    }
   ],
   "source": [
    "vals = (bins - mu)/sigma\n",
    "vals"
   ]
  },
  {
   "cell_type": "code",
   "execution_count": 23,
   "id": "0271dcff",
   "metadata": {},
   "outputs": [
    {
     "data": {
      "text/plain": [
       "array([0.08, 0.3 , 0.4 , 0.18])"
      ]
     },
     "execution_count": 23,
     "metadata": {},
     "output_type": "execute_result"
    }
   ],
   "source": [
    "#bin probabilities\n",
    "probs = np.array([np.round(calc_probs(vals[i], vals[i+1]), 2) for i in range(len(vals) - 1)])\n",
    "probs"
   ]
  },
  {
   "cell_type": "code",
   "execution_count": 24,
   "id": "bf24f590",
   "metadata": {},
   "outputs": [
    {
     "data": {
      "text/plain": [
       "array([ 3.2, 12. , 16. ,  7.2])"
      ]
     },
     "execution_count": 24,
     "metadata": {},
     "output_type": "execute_result"
    }
   ],
   "source": [
    "N = sum(O)\n",
    "E = N*np.array(probs)\n",
    "E"
   ]
  },
  {
   "cell_type": "code",
   "execution_count": 25,
   "id": "ec2e9046",
   "metadata": {},
   "outputs": [
    {
     "name": "stdout",
     "output_type": "stream",
     "text": [
      "The observed number of samples: [ 3. 11. 17.  9.]\n",
      "The expected number of samples: [ 3.2 12.  16.   7.2]\n",
      "The degrees of freedom: 1\n"
     ]
    }
   ],
   "source": [
    "#the degrees of freedom\n",
    "n = len(O)\n",
    "d = n - 3\n",
    "\n",
    "print('The observed number of samples:', O)\n",
    "print('The expected number of samples:', E)\n",
    "print('The degrees of freedom:', d)"
   ]
  },
  {
   "cell_type": "code",
   "execution_count": 26,
   "id": "b029c28a",
   "metadata": {},
   "outputs": [
    {
     "name": "stdout",
     "output_type": "stream",
     "text": [
      "Reduced chi-square: 0.61\n"
     ]
    }
   ],
   "source": [
    "chi_sq_redux(O, E, d)"
   ]
  },
  {
   "cell_type": "markdown",
   "id": "6f87698a",
   "metadata": {},
   "source": [
    "For the given $\\tilde{\\chi}^2$ score, we find the p-value to be $\\approx 0.44$. This means we accept that the time data follows the Gaussian distribution  with high confidence."
   ]
  },
  {
   "cell_type": "markdown",
   "id": "3cb59739",
   "metadata": {},
   "source": [
    "### 3rd Column"
   ]
  },
  {
   "cell_type": "code",
   "execution_count": 27,
   "id": "b538bb3c",
   "metadata": {},
   "outputs": [
    {
     "data": {
      "image/png": "[encoded data removed]",
      "text/plain": [
       "<Figure size 432x288 with 1 Axes>"
      ]
     },
     "metadata": {
      "needs_background": "light"
     },
     "output_type": "display_data"
    }
   ],
   "source": [
    "time = data_df['h (m) = 0.535 m'].dropna().values\n",
    "\n",
    "#plotting the histogram \n",
    "O, bins, patches = plt.hist(time, 4, color='y')\n",
    "plt.title('Histogram for Time Data, 3rd Column')\n",
    "plt.xlabel('Time $t\\ (ms)$')\n",
    "plt.ylabel('Frequency')\n",
    "plt.savefig('distribution_hist_3.jpg')\n",
    "plt.show()"
   ]
  },
  {
   "cell_type": "code",
   "execution_count": 28,
   "id": "1bc35281",
   "metadata": {},
   "outputs": [
    {
     "data": {
      "image/png": "[encoded data removed]",
      "text/plain": [
       "<Figure size 432x288 with 1 Axes>"
      ]
     },
     "metadata": {
      "needs_background": "light"
     },
     "output_type": "display_data"
    }
   ],
   "source": [
    "time = data_df['h (m) = 0.535 m'].dropna().values\n",
    "mu, sigma = norm.fit(time)\n",
    "\n",
    "#plotting the histogram with gaussian curve\n",
    "t = time.max() - time.min()\n",
    "x = np.arange(time.min() - 1, time.max() + 1.5, t/50.)\n",
    "y = norm.pdf(x, mu, sigma)\n",
    "\n",
    "textstr = '\\n'.join((f'mean = {round(mu, 4)}', \n",
    "                    f'std = {round(sigma, 4)}'))\n",
    "plt.text(326.5, .35, textstr)\n",
    "\n",
    "plt.plot(x, y)\n",
    "plt.hist(time, 4, density=True, color='y')\n",
    "plt.title('Distribution of Time Data, 3rd Column')\n",
    "plt.legend(['Gaussian','Measurement'])\n",
    "plt.xlabel('Time $t\\ (ms)$')\n",
    "plt.ylabel('Frequency')\n",
    "plt.savefig('distribution_gauss_figure_3.jpg')\n",
    "plt.show()"
   ]
  },
  {
   "cell_type": "code",
   "execution_count": 29,
   "id": "d3c6b125",
   "metadata": {},
   "outputs": [
    {
     "data": {
      "text/plain": [
       "array([-2.86503573, -1.71203354, -0.55903136,  0.59397082,  1.746973  ])"
      ]
     },
     "execution_count": 29,
     "metadata": {},
     "output_type": "execute_result"
    }
   ],
   "source": [
    "vals = (bins - mu)/sigma\n",
    "vals"
   ]
  },
  {
   "cell_type": "code",
   "execution_count": 30,
   "id": "d87c0c1a",
   "metadata": {},
   "outputs": [
    {
     "data": {
      "text/plain": [
       "array([0.04, 0.24, 0.44, 0.24])"
      ]
     },
     "execution_count": 30,
     "metadata": {},
     "output_type": "execute_result"
    }
   ],
   "source": [
    "#bin probabilities\n",
    "probs = np.array([np.round(calc_probs(vals[i], vals[i+1]), 2) for i in range(len(vals) - 1)])\n",
    "probs"
   ]
  },
  {
   "cell_type": "code",
   "execution_count": 31,
   "id": "9cf5d725",
   "metadata": {},
   "outputs": [
    {
     "data": {
      "text/plain": [
       "array([ 1.52,  9.12, 16.72,  9.12])"
      ]
     },
     "execution_count": 31,
     "metadata": {},
     "output_type": "execute_result"
    }
   ],
   "source": [
    "N = sum(O)\n",
    "E = N*np.array(probs)\n",
    "E"
   ]
  },
  {
   "cell_type": "code",
   "execution_count": 32,
   "id": "f7bcbf2e",
   "metadata": {},
   "outputs": [
    {
     "name": "stdout",
     "output_type": "stream",
     "text": [
      "The observed number of samples: [ 2.  8. 15. 13.]\n",
      "The expected number of samples: [ 1.52  9.12 16.72  9.12]\n",
      "The degrees of freedom: 1\n"
     ]
    }
   ],
   "source": [
    "#the degrees of freedom\n",
    "n = len(O)\n",
    "d = n - 3\n",
    "\n",
    "print('The observed number of samples:', O)\n",
    "print('The expected number of samples:', E)\n",
    "print('The degrees of freedom:', d)"
   ]
  },
  {
   "cell_type": "code",
   "execution_count": 33,
   "id": "b6b7afc7",
   "metadata": {},
   "outputs": [
    {
     "name": "stdout",
     "output_type": "stream",
     "text": [
      "Reduced chi-square: 2.12\n"
     ]
    }
   ],
   "source": [
    "chi_sq_redux(O, E, d)"
   ]
  },
  {
   "cell_type": "markdown",
   "id": "6dc61f83",
   "metadata": {},
   "source": [
    "For the given $\\tilde{\\chi}^2$ score, we find the p-value to be $\\approx 0.15$. This means that we can accept that the time data follows the Gaussian distribution."
   ]
  },
  {
   "cell_type": "markdown",
   "id": "878d1646",
   "metadata": {},
   "source": [
    "### 4th Column"
   ]
  },
  {
   "cell_type": "code",
   "execution_count": 34,
   "id": "4b48e428",
   "metadata": {},
   "outputs": [
    {
     "data": {
      "image/png": "[encoded data removed]",
      "text/plain": [
       "<Figure size 432x288 with 1 Axes>"
      ]
     },
     "metadata": {
      "needs_background": "light"
     },
     "output_type": "display_data"
    }
   ],
   "source": [
    "time = data_df['h (m) = 0.606 m'].dropna().values\n",
    "\n",
    "#plotting the histogram \n",
    "O, bins, patches = plt.hist(time, 5, color='y')\n",
    "plt.title('Histogram for Time Data, 4th Column')\n",
    "plt.xlabel('Time $t\\ (ms)$')\n",
    "plt.ylabel('Frequency')\n",
    "plt.savefig('distribution_hist_4.jpg')\n",
    "plt.show()"
   ]
  },
  {
   "cell_type": "code",
   "execution_count": 35,
   "id": "1b0b3985",
   "metadata": {},
   "outputs": [
    {
     "data": {
      "image/png": "[encoded data removed]",
      "text/plain": [
       "<Figure size 432x288 with 1 Axes>"
      ]
     },
     "metadata": {
      "needs_background": "light"
     },
     "output_type": "display_data"
    }
   ],
   "source": [
    "time = data_df['h (m) = 0.606 m'].dropna().values\n",
    "mu, sigma = norm.fit(time)\n",
    "\n",
    "#plotting the histogram with gaussian curve\n",
    "t = time.max() - time.min()\n",
    "x = np.arange(time.min() - 1, time.max() + 1.5, t/50.)\n",
    "y = norm.pdf(x, mu, sigma)\n",
    "\n",
    "textstr = '\\n'.join((f'mean = {round(mu, 4)}', \n",
    "                    f'std = {round(sigma, 4)}'))\n",
    "plt.text(348.25, .35, textstr)\n",
    "\n",
    "plt.plot(x, y)\n",
    "plt.hist(time, 5, density=True, color='y')\n",
    "plt.title('Distribution of Time Data, 4th Column')\n",
    "plt.legend(['Gaussian','Measurement'])\n",
    "plt.xlabel('Time $t\\ (ms)$')\n",
    "plt.ylabel('Frequency')\n",
    "plt.savefig('distribution_gauss_figure_4.jpg')\n",
    "plt.show()"
   ]
  },
  {
   "cell_type": "code",
   "execution_count": 36,
   "id": "c8e0f99d",
   "metadata": {},
   "outputs": [
    {
     "data": {
      "text/plain": [
       "array([-2.00063153, -1.25133133, -0.50203113,  0.24726907,  0.99656927,\n",
       "        1.74586946])"
      ]
     },
     "execution_count": 36,
     "metadata": {},
     "output_type": "execute_result"
    }
   ],
   "source": [
    "vals = (bins - mu)/sigma\n",
    "vals"
   ]
  },
  {
   "cell_type": "code",
   "execution_count": 37,
   "id": "0116f323",
   "metadata": {},
   "outputs": [
    {
     "data": {
      "text/plain": [
       "array([0.08, 0.2 , 0.29, 0.24, 0.12])"
      ]
     },
     "execution_count": 37,
     "metadata": {},
     "output_type": "execute_result"
    }
   ],
   "source": [
    "#bin probabilities\n",
    "probs = np.array([np.round(calc_probs(vals[i], vals[i+1]), 2) for i in range(len(vals) - 1)])\n",
    "probs"
   ]
  },
  {
   "cell_type": "code",
   "execution_count": 38,
   "id": "b55e329d",
   "metadata": {},
   "outputs": [
    {
     "data": {
      "text/plain": [
       "array([ 3.2,  8. , 11.6,  9.6,  4.8])"
      ]
     },
     "execution_count": 38,
     "metadata": {},
     "output_type": "execute_result"
    }
   ],
   "source": [
    "N = sum(O)\n",
    "E = N*np.array(probs)\n",
    "E"
   ]
  },
  {
   "cell_type": "code",
   "execution_count": 39,
   "id": "b7994db5",
   "metadata": {},
   "outputs": [
    {
     "name": "stdout",
     "output_type": "stream",
     "text": [
      "The observed number of samples: [ 5.  6. 11. 11.  7.]\n",
      "The expected number of samples: [ 3.2  8.  11.6  9.6  4.8]\n",
      "The degrees of freedom: 2\n"
     ]
    }
   ],
   "source": [
    "#the degrees of freedom\n",
    "n = len(O)\n",
    "d = n - 3\n",
    "\n",
    "print('The observed number of samples:', O)\n",
    "print('The expected number of samples:', E)\n",
    "print('The degrees of freedom:', d)"
   ]
  },
  {
   "cell_type": "code",
   "execution_count": 40,
   "id": "490befc9",
   "metadata": {},
   "outputs": [
    {
     "name": "stdout",
     "output_type": "stream",
     "text": [
      "Reduced chi-square: 1.38\n"
     ]
    }
   ],
   "source": [
    "chi_sq_redux(O, E, d)"
   ]
  },
  {
   "cell_type": "markdown",
   "id": "a55999f0",
   "metadata": {},
   "source": [
    "For the given $\\tilde{\\chi}^2$ score, we find the p-value to be $\\approx 0.25$. This means that we can accept that the time data follows the Gaussian distribution with good confidence."
   ]
  },
  {
   "cell_type": "markdown",
   "id": "1badc852",
   "metadata": {},
   "source": [
    "Before continuing, we convert all the time values from miliseconds to seconds."
   ]
  },
  {
   "cell_type": "code",
   "execution_count": 41,
   "id": "39c1cabd",
   "metadata": {
    "scrolled": true
   },
   "outputs": [
    {
     "data": {
      "text/html": [
       "<div>\n",
       "<style scoped>\n",
       "    .dataframe tbody tr th:only-of-type {\n",
       "        vertical-align: middle;\n",
       "    }\n",
       "\n",
       "    .dataframe tbody tr th {\n",
       "        vertical-align: top;\n",
       "    }\n",
       "\n",
       "    .dataframe thead th {\n",
       "        text-align: right;\n",
       "    }\n",
       "</style>\n",
       "<table border=\"1\" class=\"dataframe\">\n",
       "  <thead>\n",
       "    <tr style=\"text-align: right;\">\n",
       "      <th></th>\n",
       "      <th>h (m) = 0.703 m</th>\n",
       "      <th>h (m)  = 0.8635 m</th>\n",
       "      <th>h (m) = 0.535 m</th>\n",
       "      <th>h (m) = 0.606 m</th>\n",
       "    </tr>\n",
       "  </thead>\n",
       "  <tbody>\n",
       "    <tr>\n",
       "      <th>0</th>\n",
       "      <td>0.3758</td>\n",
       "      <td>0.4187</td>\n",
       "      <td>0.3280</td>\n",
       "      <td>0.3516</td>\n",
       "    </tr>\n",
       "    <tr>\n",
       "      <th>1</th>\n",
       "      <td>0.3758</td>\n",
       "      <td>0.4184</td>\n",
       "      <td>NaN</td>\n",
       "      <td>0.3512</td>\n",
       "    </tr>\n",
       "    <tr>\n",
       "      <th>2</th>\n",
       "      <td>0.3845</td>\n",
       "      <td>0.4186</td>\n",
       "      <td>0.3275</td>\n",
       "      <td>0.3502</td>\n",
       "    </tr>\n",
       "    <tr>\n",
       "      <th>3</th>\n",
       "      <td>NaN</td>\n",
       "      <td>0.4172</td>\n",
       "      <td>0.3292</td>\n",
       "      <td>0.3502</td>\n",
       "    </tr>\n",
       "    <tr>\n",
       "      <th>4</th>\n",
       "      <td>0.3783</td>\n",
       "      <td>0.4193</td>\n",
       "      <td>0.3294</td>\n",
       "      <td>0.3504</td>\n",
       "    </tr>\n",
       "    <tr>\n",
       "      <th>5</th>\n",
       "      <td>0.3774</td>\n",
       "      <td>0.4190</td>\n",
       "      <td>0.3301</td>\n",
       "      <td>0.3508</td>\n",
       "    </tr>\n",
       "    <tr>\n",
       "      <th>6</th>\n",
       "      <td>0.3781</td>\n",
       "      <td>0.4194</td>\n",
       "      <td>0.3292</td>\n",
       "      <td>0.3509</td>\n",
       "    </tr>\n",
       "    <tr>\n",
       "      <th>7</th>\n",
       "      <td>0.3785</td>\n",
       "      <td>0.4193</td>\n",
       "      <td>0.3284</td>\n",
       "      <td>0.3500</td>\n",
       "    </tr>\n",
       "    <tr>\n",
       "      <th>8</th>\n",
       "      <td>0.3772</td>\n",
       "      <td>0.4184</td>\n",
       "      <td>0.3286</td>\n",
       "      <td>0.3494</td>\n",
       "    </tr>\n",
       "    <tr>\n",
       "      <th>9</th>\n",
       "      <td>0.3788</td>\n",
       "      <td>0.4194</td>\n",
       "      <td>0.3286</td>\n",
       "      <td>0.3507</td>\n",
       "    </tr>\n",
       "    <tr>\n",
       "      <th>10</th>\n",
       "      <td>0.3781</td>\n",
       "      <td>0.4178</td>\n",
       "      <td>0.3283</td>\n",
       "      <td>0.3515</td>\n",
       "    </tr>\n",
       "    <tr>\n",
       "      <th>11</th>\n",
       "      <td>0.3782</td>\n",
       "      <td>0.4182</td>\n",
       "      <td>0.3291</td>\n",
       "      <td>0.3495</td>\n",
       "    </tr>\n",
       "    <tr>\n",
       "      <th>12</th>\n",
       "      <td>0.3785</td>\n",
       "      <td>0.4172</td>\n",
       "      <td>0.3294</td>\n",
       "      <td>0.3491</td>\n",
       "    </tr>\n",
       "    <tr>\n",
       "      <th>13</th>\n",
       "      <td>0.3773</td>\n",
       "      <td>0.4183</td>\n",
       "      <td>0.3283</td>\n",
       "      <td>0.3507</td>\n",
       "    </tr>\n",
       "    <tr>\n",
       "      <th>14</th>\n",
       "      <td>0.3768</td>\n",
       "      <td>0.4187</td>\n",
       "      <td>0.3282</td>\n",
       "      <td>0.3516</td>\n",
       "    </tr>\n",
       "    <tr>\n",
       "      <th>15</th>\n",
       "      <td>0.3766</td>\n",
       "      <td>0.4188</td>\n",
       "      <td>0.3294</td>\n",
       "      <td>0.3498</td>\n",
       "    </tr>\n",
       "    <tr>\n",
       "      <th>16</th>\n",
       "      <td>NaN</td>\n",
       "      <td>0.4189</td>\n",
       "      <td>0.3299</td>\n",
       "      <td>0.3514</td>\n",
       "    </tr>\n",
       "    <tr>\n",
       "      <th>17</th>\n",
       "      <td>0.3780</td>\n",
       "      <td>0.4170</td>\n",
       "      <td>0.3292</td>\n",
       "      <td>0.3502</td>\n",
       "    </tr>\n",
       "    <tr>\n",
       "      <th>18</th>\n",
       "      <td>0.3781</td>\n",
       "      <td>0.4181</td>\n",
       "      <td>0.3291</td>\n",
       "      <td>0.3505</td>\n",
       "    </tr>\n",
       "    <tr>\n",
       "      <th>19</th>\n",
       "      <td>0.3760</td>\n",
       "      <td>0.4187</td>\n",
       "      <td>NaN</td>\n",
       "      <td>0.3509</td>\n",
       "    </tr>\n",
       "    <tr>\n",
       "      <th>20</th>\n",
       "      <td>0.3780</td>\n",
       "      <td>0.4187</td>\n",
       "      <td>0.3295</td>\n",
       "      <td>0.3497</td>\n",
       "    </tr>\n",
       "    <tr>\n",
       "      <th>21</th>\n",
       "      <td>NaN</td>\n",
       "      <td>0.4180</td>\n",
       "      <td>0.3294</td>\n",
       "      <td>0.3497</td>\n",
       "    </tr>\n",
       "    <tr>\n",
       "      <th>22</th>\n",
       "      <td>0.3785</td>\n",
       "      <td>0.4177</td>\n",
       "      <td>0.3288</td>\n",
       "      <td>0.3512</td>\n",
       "    </tr>\n",
       "    <tr>\n",
       "      <th>23</th>\n",
       "      <td>0.3809</td>\n",
       "      <td>0.4165</td>\n",
       "      <td>0.3285</td>\n",
       "      <td>0.3497</td>\n",
       "    </tr>\n",
       "    <tr>\n",
       "      <th>24</th>\n",
       "      <td>0.3783</td>\n",
       "      <td>0.4198</td>\n",
       "      <td>0.3296</td>\n",
       "      <td>0.3493</td>\n",
       "    </tr>\n",
       "    <tr>\n",
       "      <th>25</th>\n",
       "      <td>0.3781</td>\n",
       "      <td>0.4186</td>\n",
       "      <td>0.3268</td>\n",
       "      <td>0.3502</td>\n",
       "    </tr>\n",
       "    <tr>\n",
       "      <th>26</th>\n",
       "      <td>0.3768</td>\n",
       "      <td>0.4168</td>\n",
       "      <td>0.3278</td>\n",
       "      <td>0.3501</td>\n",
       "    </tr>\n",
       "    <tr>\n",
       "      <th>27</th>\n",
       "      <td>0.3774</td>\n",
       "      <td>0.4173</td>\n",
       "      <td>0.3295</td>\n",
       "      <td>0.3509</td>\n",
       "    </tr>\n",
       "    <tr>\n",
       "      <th>28</th>\n",
       "      <td>0.3766</td>\n",
       "      <td>0.4188</td>\n",
       "      <td>0.3278</td>\n",
       "      <td>0.3514</td>\n",
       "    </tr>\n",
       "    <tr>\n",
       "      <th>29</th>\n",
       "      <td>0.3768</td>\n",
       "      <td>0.4175</td>\n",
       "      <td>0.3285</td>\n",
       "      <td>0.3504</td>\n",
       "    </tr>\n",
       "    <tr>\n",
       "      <th>30</th>\n",
       "      <td>0.3772</td>\n",
       "      <td>0.4175</td>\n",
       "      <td>0.3286</td>\n",
       "      <td>0.3498</td>\n",
       "    </tr>\n",
       "    <tr>\n",
       "      <th>31</th>\n",
       "      <td>0.3788</td>\n",
       "      <td>0.4187</td>\n",
       "      <td>0.3295</td>\n",
       "      <td>0.3509</td>\n",
       "    </tr>\n",
       "    <tr>\n",
       "      <th>32</th>\n",
       "      <td>0.3760</td>\n",
       "      <td>0.4185</td>\n",
       "      <td>0.3293</td>\n",
       "      <td>0.3505</td>\n",
       "    </tr>\n",
       "    <tr>\n",
       "      <th>33</th>\n",
       "      <td>0.3768</td>\n",
       "      <td>0.4160</td>\n",
       "      <td>0.3285</td>\n",
       "      <td>0.3508</td>\n",
       "    </tr>\n",
       "    <tr>\n",
       "      <th>34</th>\n",
       "      <td>0.3771</td>\n",
       "      <td>0.4177</td>\n",
       "      <td>0.3291</td>\n",
       "      <td>0.3507</td>\n",
       "    </tr>\n",
       "    <tr>\n",
       "      <th>35</th>\n",
       "      <td>0.3776</td>\n",
       "      <td>0.4177</td>\n",
       "      <td>0.3297</td>\n",
       "      <td>0.3508</td>\n",
       "    </tr>\n",
       "    <tr>\n",
       "      <th>36</th>\n",
       "      <td>0.3770</td>\n",
       "      <td>0.4171</td>\n",
       "      <td>0.3297</td>\n",
       "      <td>0.3504</td>\n",
       "    </tr>\n",
       "    <tr>\n",
       "      <th>37</th>\n",
       "      <td>0.3772</td>\n",
       "      <td>0.4193</td>\n",
       "      <td>0.3292</td>\n",
       "      <td>0.3502</td>\n",
       "    </tr>\n",
       "    <tr>\n",
       "      <th>38</th>\n",
       "      <td>0.3750</td>\n",
       "      <td>0.4191</td>\n",
       "      <td>0.3285</td>\n",
       "      <td>0.3508</td>\n",
       "    </tr>\n",
       "    <tr>\n",
       "      <th>39</th>\n",
       "      <td>0.3765</td>\n",
       "      <td>0.4200</td>\n",
       "      <td>0.3281</td>\n",
       "      <td>0.3493</td>\n",
       "    </tr>\n",
       "  </tbody>\n",
       "</table>\n",
       "</div>"
      ],
      "text/plain": [
       "    h (m) = 0.703 m  h (m)  = 0.8635 m  h (m) = 0.535 m  h (m) = 0.606 m\n",
       "0            0.3758             0.4187           0.3280           0.3516\n",
       "1            0.3758             0.4184              NaN           0.3512\n",
       "2            0.3845             0.4186           0.3275           0.3502\n",
       "3               NaN             0.4172           0.3292           0.3502\n",
       "4            0.3783             0.4193           0.3294           0.3504\n",
       "5            0.3774             0.4190           0.3301           0.3508\n",
       "6            0.3781             0.4194           0.3292           0.3509\n",
       "7            0.3785             0.4193           0.3284           0.3500\n",
       "8            0.3772             0.4184           0.3286           0.3494\n",
       "9            0.3788             0.4194           0.3286           0.3507\n",
       "10           0.3781             0.4178           0.3283           0.3515\n",
       "11           0.3782             0.4182           0.3291           0.3495\n",
       "12           0.3785             0.4172           0.3294           0.3491\n",
       "13           0.3773             0.4183           0.3283           0.3507\n",
       "14           0.3768             0.4187           0.3282           0.3516\n",
       "15           0.3766             0.4188           0.3294           0.3498\n",
       "16              NaN             0.4189           0.3299           0.3514\n",
       "17           0.3780             0.4170           0.3292           0.3502\n",
       "18           0.3781             0.4181           0.3291           0.3505\n",
       "19           0.3760             0.4187              NaN           0.3509\n",
       "20           0.3780             0.4187           0.3295           0.3497\n",
       "21              NaN             0.4180           0.3294           0.3497\n",
       "22           0.3785             0.4177           0.3288           0.3512\n",
       "23           0.3809             0.4165           0.3285           0.3497\n",
       "24           0.3783             0.4198           0.3296           0.3493\n",
       "25           0.3781             0.4186           0.3268           0.3502\n",
       "26           0.3768             0.4168           0.3278           0.3501\n",
       "27           0.3774             0.4173           0.3295           0.3509\n",
       "28           0.3766             0.4188           0.3278           0.3514\n",
       "29           0.3768             0.4175           0.3285           0.3504\n",
       "30           0.3772             0.4175           0.3286           0.3498\n",
       "31           0.3788             0.4187           0.3295           0.3509\n",
       "32           0.3760             0.4185           0.3293           0.3505\n",
       "33           0.3768             0.4160           0.3285           0.3508\n",
       "34           0.3771             0.4177           0.3291           0.3507\n",
       "35           0.3776             0.4177           0.3297           0.3508\n",
       "36           0.3770             0.4171           0.3297           0.3504\n",
       "37           0.3772             0.4193           0.3292           0.3502\n",
       "38           0.3750             0.4191           0.3285           0.3508\n",
       "39           0.3765             0.4200           0.3281           0.3493"
      ]
     },
     "execution_count": 41,
     "metadata": {},
     "output_type": "execute_result"
    }
   ],
   "source": [
    "data_df = data_df*.001\n",
    "data_df"
   ]
  },
  {
   "cell_type": "code",
   "execution_count": 42,
   "id": "d9be3861",
   "metadata": {},
   "outputs": [],
   "source": [
    "h_unc = np.array([[.001, .001, .001, .001]])"
   ]
  },
  {
   "cell_type": "code",
   "execution_count": 43,
   "id": "7b035c73",
   "metadata": {},
   "outputs": [
    {
     "data": {
      "text/plain": [
       "array([[0.3776, 0.4183, 0.3289, 0.3504]])"
      ]
     },
     "execution_count": 43,
     "metadata": {},
     "output_type": "execute_result"
    }
   ],
   "source": [
    "t_mean = np.round(data_df.mean().values, 4).reshape(1, -1)\n",
    "t_mean"
   ]
  },
  {
   "cell_type": "code",
   "execution_count": 44,
   "id": "9f3c2746",
   "metadata": {},
   "outputs": [
    {
     "data": {
      "text/plain": [
       "array([[0.0016, 0.0009, 0.0007, 0.0007]])"
      ]
     },
     "execution_count": 44,
     "metadata": {},
     "output_type": "execute_result"
    }
   ],
   "source": [
    "t_std = np.round(data_df.std().values, 4).reshape(1, -1)\n",
    "t_std"
   ]
  },
  {
   "cell_type": "code",
   "execution_count": 45,
   "id": "6ccadf04",
   "metadata": {},
   "outputs": [
    {
     "data": {
      "text/plain": [
       "array([[0.42, 0.22, 0.21, 0.2 ]])"
      ]
     },
     "execution_count": 45,
     "metadata": {},
     "output_type": "execute_result"
    }
   ],
   "source": [
    "t_perc = np.round((t_std/t_mean)*100, 2).reshape(1, -1)\n",
    "t_perc"
   ]
  },
  {
   "cell_type": "code",
   "execution_count": 46,
   "id": "82013a9e",
   "metadata": {},
   "outputs": [
    {
     "data": {
      "text/html": [
       "<div>\n",
       "<style scoped>\n",
       "    .dataframe tbody tr th:only-of-type {\n",
       "        vertical-align: middle;\n",
       "    }\n",
       "\n",
       "    .dataframe tbody tr th {\n",
       "        vertical-align: top;\n",
       "    }\n",
       "\n",
       "    .dataframe thead th {\n",
       "        text-align: right;\n",
       "    }\n",
       "</style>\n",
       "<table border=\"1\" class=\"dataframe\">\n",
       "  <thead>\n",
       "    <tr style=\"text-align: right;\">\n",
       "      <th></th>\n",
       "      <th>h (m) = 0.703 m</th>\n",
       "      <th>h (m)  = 0.8635 m</th>\n",
       "      <th>h (m) = 0.535 m</th>\n",
       "      <th>h (m) = 0.606 m</th>\n",
       "    </tr>\n",
       "  </thead>\n",
       "  <tbody>\n",
       "    <tr>\n",
       "      <th>Height Uncertainty $\\Delta h\\ (m)$</th>\n",
       "      <td>0.0010</td>\n",
       "      <td>0.0010</td>\n",
       "      <td>0.0010</td>\n",
       "      <td>0.0010</td>\n",
       "    </tr>\n",
       "    <tr>\n",
       "      <th>Mean Time $t_{mean}\\ (s)$</th>\n",
       "      <td>0.3776</td>\n",
       "      <td>0.4183</td>\n",
       "      <td>0.3289</td>\n",
       "      <td>0.3504</td>\n",
       "    </tr>\n",
       "    <tr>\n",
       "      <th>STD of the Time Data $\\sigma_t\\ (s)$</th>\n",
       "      <td>0.0016</td>\n",
       "      <td>0.0009</td>\n",
       "      <td>0.0007</td>\n",
       "      <td>0.0007</td>\n",
       "    </tr>\n",
       "    <tr>\n",
       "      <th>STD Percent w.r.t. Mean Time $\\sigma_t/t_{mean}\\ (\\%)$</th>\n",
       "      <td>0.4200</td>\n",
       "      <td>0.2200</td>\n",
       "      <td>0.2100</td>\n",
       "      <td>0.2000</td>\n",
       "    </tr>\n",
       "  </tbody>\n",
       "</table>\n",
       "</div>"
      ],
      "text/plain": [
       "                                                    h (m) = 0.703 m  \\\n",
       "Height Uncertainty $\\Delta h\\ (m)$                           0.0010   \n",
       "Mean Time $t_{mean}\\ (s)$                                    0.3776   \n",
       "STD of the Time Data $\\sigma_t\\ (s)$                         0.0016   \n",
       "STD Percent w.r.t. Mean Time $\\sigma_t/t_{mean}...           0.4200   \n",
       "\n",
       "                                                    h (m)  = 0.8635 m  \\\n",
       "Height Uncertainty $\\Delta h\\ (m)$                             0.0010   \n",
       "Mean Time $t_{mean}\\ (s)$                                      0.4183   \n",
       "STD of the Time Data $\\sigma_t\\ (s)$                           0.0009   \n",
       "STD Percent w.r.t. Mean Time $\\sigma_t/t_{mean}...             0.2200   \n",
       "\n",
       "                                                    h (m) = 0.535 m  \\\n",
       "Height Uncertainty $\\Delta h\\ (m)$                           0.0010   \n",
       "Mean Time $t_{mean}\\ (s)$                                    0.3289   \n",
       "STD of the Time Data $\\sigma_t\\ (s)$                         0.0007   \n",
       "STD Percent w.r.t. Mean Time $\\sigma_t/t_{mean}...           0.2100   \n",
       "\n",
       "                                                    h (m) = 0.606 m  \n",
       "Height Uncertainty $\\Delta h\\ (m)$                           0.0010  \n",
       "Mean Time $t_{mean}\\ (s)$                                    0.3504  \n",
       "STD of the Time Data $\\sigma_t\\ (s)$                         0.0007  \n",
       "STD Percent w.r.t. Mean Time $\\sigma_t/t_{mean}...           0.2000  "
      ]
     },
     "execution_count": 46,
     "metadata": {},
     "output_type": "execute_result"
    }
   ],
   "source": [
    "index = ['Height Uncertainty $\\Delta h\\ (m)$', \n",
    "         'Mean Time $t_{mean}\\ (s)$',\n",
    "         'STD of the Time Data $\\sigma_t\\ (s)$',\n",
    "         'STD Percent w.r.t. Mean Time $\\sigma_t/t_{mean}\\ (\\%)$']\n",
    "\n",
    "table_3 = np.vstack((h_unc, t_mean, t_std, t_perc))\n",
    "table_3_df = pd.DataFrame(table_3, index=index, columns=columns)\n",
    "table_3_df"
   ]
  },
  {
   "cell_type": "markdown",
   "id": "478df4c7",
   "metadata": {},
   "source": [
    "The values of the Standard deviation percent respect to Mean time, $\\sigma_t⁄t_{mean}$ (see the table above) are 0.42%, 0.22%, 0.21%  and  0.2% , for the 1st, 2nd, 3rd and 4th column of the Time data.\n",
    "\n",
    "According to the statistical interpretation of the mean and Standard deviation, 96.87% of the data is in the interval $t_{mean}\\pm 3\\sigma_t$. Since $\\sigma_t⁄t_{mean}$ values are small, it means that 96.87% of the time data is in a small interval around the Mean time, hence the time data for each group is narrowly distributed, and it is a peaked Gaussian distribution, with small spreading.\n",
    "\n",
    "Therefore, the Hypothesis 2:\n",
    "\n",
    "1.\tFor each of the four heights, 40 values of the time were measured, hence the measurement of falling time from the same height should be Gaussian distributed.\n"
   ]
  },
  {
   "cell_type": "markdown",
   "id": "bc550f50",
   "metadata": {},
   "source": [
    "We calculate the Gravity Acceleration $g$ using the formula\n",
    "\n",
    "$$g = \\frac{2h}{t_{mean}^2},$$\n",
    "\n",
    "and the uncertainty for $g$ is given by\n",
    "\n",
    "$$\\Delta g = 2\\sqrt{\\Big(\\frac{\\Delta h}{t_{mean}^2}\\Big)^2 + \\Big(\\frac{2h\\sigma_t}{t_{mean}^3}\\Big)^2}.$$"
   ]
  },
  {
   "cell_type": "code",
   "execution_count": 47,
   "id": "8c93d9aa",
   "metadata": {},
   "outputs": [],
   "source": [
    "h = np.array([[.703, .8635, .535, .606]])"
   ]
  },
  {
   "cell_type": "code",
   "execution_count": 48,
   "id": "cf8e3aec",
   "metadata": {},
   "outputs": [
    {
     "data": {
      "text/plain": [
       "array([[9.861009, 9.869988, 9.891361, 9.871302]])"
      ]
     },
     "execution_count": 48,
     "metadata": {},
     "output_type": "execute_result"
    }
   ],
   "source": [
    "g = np.round((2*h)/(t_mean**2), 6).reshape(1, -1)\n",
    "g"
   ]
  },
  {
   "cell_type": "code",
   "execution_count": 49,
   "id": "8b87746a",
   "metadata": {},
   "outputs": [
    {
     "data": {
      "text/plain": [
       "array([[0.084737, 0.043983, 0.045984, 0.042672]])"
      ]
     },
     "execution_count": 49,
     "metadata": {},
     "output_type": "execute_result"
    }
   ],
   "source": [
    "term_1 = (.001/(t_mean**2))**2\n",
    "term_2 = ((2*h*t_std)/(t_mean**3))**2\n",
    "delta_g = np.round(2*np.sqrt(term_1 + term_2), 6)\n",
    "delta_g"
   ]
  },
  {
   "cell_type": "code",
   "execution_count": 50,
   "id": "15916f31",
   "metadata": {},
   "outputs": [
    {
     "data": {
      "text/html": [
       "<div>\n",
       "<style scoped>\n",
       "    .dataframe tbody tr th:only-of-type {\n",
       "        vertical-align: middle;\n",
       "    }\n",
       "\n",
       "    .dataframe tbody tr th {\n",
       "        vertical-align: top;\n",
       "    }\n",
       "\n",
       "    .dataframe thead th {\n",
       "        text-align: right;\n",
       "    }\n",
       "</style>\n",
       "<table border=\"1\" class=\"dataframe\">\n",
       "  <thead>\n",
       "    <tr style=\"text-align: right;\">\n",
       "      <th></th>\n",
       "      <th>h (m) = 0.703 m</th>\n",
       "      <th>h (m)  = 0.8635 m</th>\n",
       "      <th>h (m) = 0.535 m</th>\n",
       "      <th>h (m) = 0.606 m</th>\n",
       "    </tr>\n",
       "  </thead>\n",
       "  <tbody>\n",
       "    <tr>\n",
       "      <th>Height Uncertainty $\\Delta h\\ (m)$</th>\n",
       "      <td>0.001000</td>\n",
       "      <td>0.001000</td>\n",
       "      <td>0.001000</td>\n",
       "      <td>0.001000</td>\n",
       "    </tr>\n",
       "    <tr>\n",
       "      <th>Mean Time $t_{mean}\\ (s)$</th>\n",
       "      <td>0.377600</td>\n",
       "      <td>0.418300</td>\n",
       "      <td>0.328900</td>\n",
       "      <td>0.350400</td>\n",
       "    </tr>\n",
       "    <tr>\n",
       "      <th>STD of the Time Data $\\sigma_t\\ (s)$</th>\n",
       "      <td>0.001600</td>\n",
       "      <td>0.000900</td>\n",
       "      <td>0.000700</td>\n",
       "      <td>0.000700</td>\n",
       "    </tr>\n",
       "    <tr>\n",
       "      <th>Gravity Acceleration $g\\ (m/s^2)$</th>\n",
       "      <td>9.861009</td>\n",
       "      <td>9.869988</td>\n",
       "      <td>9.891361</td>\n",
       "      <td>9.871302</td>\n",
       "    </tr>\n",
       "    <tr>\n",
       "      <th>Gravity Acceleration Uncertainty $\\Delta g\\ (m/s^2)$</th>\n",
       "      <td>0.084737</td>\n",
       "      <td>0.043983</td>\n",
       "      <td>0.045984</td>\n",
       "      <td>0.042672</td>\n",
       "    </tr>\n",
       "  </tbody>\n",
       "</table>\n",
       "</div>"
      ],
      "text/plain": [
       "                                                    h (m) = 0.703 m  \\\n",
       "Height Uncertainty $\\Delta h\\ (m)$                         0.001000   \n",
       "Mean Time $t_{mean}\\ (s)$                                  0.377600   \n",
       "STD of the Time Data $\\sigma_t\\ (s)$                       0.001600   \n",
       "Gravity Acceleration $g\\ (m/s^2)$                          9.861009   \n",
       "Gravity Acceleration Uncertainty $\\Delta g\\ (m/...         0.084737   \n",
       "\n",
       "                                                    h (m)  = 0.8635 m  \\\n",
       "Height Uncertainty $\\Delta h\\ (m)$                           0.001000   \n",
       "Mean Time $t_{mean}\\ (s)$                                    0.418300   \n",
       "STD of the Time Data $\\sigma_t\\ (s)$                         0.000900   \n",
       "Gravity Acceleration $g\\ (m/s^2)$                            9.869988   \n",
       "Gravity Acceleration Uncertainty $\\Delta g\\ (m/...           0.043983   \n",
       "\n",
       "                                                    h (m) = 0.535 m  \\\n",
       "Height Uncertainty $\\Delta h\\ (m)$                         0.001000   \n",
       "Mean Time $t_{mean}\\ (s)$                                  0.328900   \n",
       "STD of the Time Data $\\sigma_t\\ (s)$                       0.000700   \n",
       "Gravity Acceleration $g\\ (m/s^2)$                          9.891361   \n",
       "Gravity Acceleration Uncertainty $\\Delta g\\ (m/...         0.045984   \n",
       "\n",
       "                                                    h (m) = 0.606 m  \n",
       "Height Uncertainty $\\Delta h\\ (m)$                         0.001000  \n",
       "Mean Time $t_{mean}\\ (s)$                                  0.350400  \n",
       "STD of the Time Data $\\sigma_t\\ (s)$                       0.000700  \n",
       "Gravity Acceleration $g\\ (m/s^2)$                          9.871302  \n",
       "Gravity Acceleration Uncertainty $\\Delta g\\ (m/...         0.042672  "
      ]
     },
     "execution_count": 50,
     "metadata": {},
     "output_type": "execute_result"
    }
   ],
   "source": [
    "index = ['Height Uncertainty $\\Delta h\\ (m)$', \n",
    "         'Mean Time $t_{mean}\\ (s)$',\n",
    "         'STD of the Time Data $\\sigma_t\\ (s)$',\n",
    "         'Gravity Acceleration $g\\ (m/s^2)$',\n",
    "         'Gravity Acceleration Uncertainty $\\Delta g\\ (m/s^2)$']\n",
    "\n",
    "table_4 = np.vstack((h_unc, t_mean, t_std, g, delta_g))\n",
    "table_4_df = pd.DataFrame(table_4, index=index, columns=columns)\n",
    "table_4_df"
   ]
  },
  {
   "cell_type": "code",
   "execution_count": 51,
   "id": "7153b8d8",
   "metadata": {},
   "outputs": [
    {
     "data": {
      "image/png": "[encoded data removed]",
      "text/plain": [
       "<Figure size 432x288 with 1 Axes>"
      ]
     },
     "metadata": {
      "needs_background": "light"
     },
     "output_type": "display_data"
    }
   ],
   "source": [
    "plt.errorbar(t_mean.squeeze(), h.squeeze(), xerr=t_std.squeeze(), fmt='o', color='black', ecolor='black', capsize=8)\n",
    "plt.title('Figure 5: Height $h$ vs. Mean Time $t_{mean}$ with STD error bars')\n",
    "plt.xlabel('$t_{mean}\\ (s)$')\n",
    "plt.ylabel('$h\\ (m)$')\n",
    "plt.grid(b=True)\n",
    "plt.savefig('fig5.jpg')\n",
    "plt.show();"
   ]
  },
  {
   "cell_type": "code",
   "execution_count": 52,
   "id": "f67a467e",
   "metadata": {},
   "outputs": [
    {
     "data": {
      "text/plain": [
       "array([ 5.51221413, -0.44446081,  0.08491322])"
      ]
     },
     "execution_count": 52,
     "metadata": {},
     "output_type": "execute_result"
    }
   ],
   "source": [
    "#fitting the second order polynomial\n",
    "poly2_coeff = np.polyfit(t_mean.squeeze(), h.squeeze(), deg=2)\n",
    "poly2_coeff"
   ]
  },
  {
   "cell_type": "code",
   "execution_count": 53,
   "id": "4e129471",
   "metadata": {},
   "outputs": [],
   "source": [
    "def poly2(x):\n",
    "    return 5.5122*(x**2) - .4445*x + .0849"
   ]
  },
  {
   "cell_type": "code",
   "execution_count": 54,
   "id": "c632c5ab",
   "metadata": {},
   "outputs": [
    {
     "data": {
      "text/plain": [
       "1.0"
      ]
     },
     "execution_count": 54,
     "metadata": {},
     "output_type": "execute_result"
    }
   ],
   "source": [
    "#computing the R-squared score\n",
    "rss = np.linalg.norm(h - poly2(t_mean))**2\n",
    "tss = np.linalg.norm(h - h.mean())**2\n",
    "R_sq = np.round(1 - rss/tss, 4)\n",
    "R_sq"
   ]
  },
  {
   "cell_type": "code",
   "execution_count": 55,
   "id": "adc17beb",
   "metadata": {},
   "outputs": [
    {
     "data": {
      "image/png": "[encoded data removed]",
      "text/plain": [
       "<Figure size 432x288 with 1 Axes>"
      ]
     },
     "metadata": {
      "needs_background": "light"
     },
     "output_type": "display_data"
    }
   ],
   "source": [
    "#plotting an interpolation polynomial\n",
    "t = t_mean.max() - t_mean.min()\n",
    "x = np.arange(t_mean.min() - .01, t_mean.max() + .01, t/50.)\n",
    "\n",
    "plt.scatter(t_mean, h, c='black')\n",
    "plt.plot(x, poly2(x), c='r')\n",
    "plt.legend(['Interpolation Line'], loc='upper left')\n",
    "plt.xlabel('$t_{mean}\\ (s)$')\n",
    "plt.ylabel('$h\\ (m)$')\n",
    "plt.grid(b=True)\n",
    "\n",
    "textstr = '\\n'.join(('T = 5.5122$t_{mean}^2$ - 0.4445$t_{mean}$ + 0.0849', \n",
    "                    f'                   R_sq = {R_sq}'))\n",
    "plt.text(.32, .75, textstr)\n",
    "\n",
    "plt.title('Figure 6: Height $h$ vs. Mean Time $t_{mean}$ with 2nd Order Polynomial Fit')\n",
    "plt.savefig('fig_6.jpg')\n",
    "plt.show()"
   ]
  },
  {
   "cell_type": "code",
   "execution_count": 56,
   "id": "865746a2",
   "metadata": {},
   "outputs": [],
   "source": [
    "#linear function\n",
    "def func(x, a, b):\n",
    "    return a + b*x"
   ]
  },
  {
   "cell_type": "code",
   "execution_count": 57,
   "id": "d8a67697",
   "metadata": {},
   "outputs": [
    {
     "name": "stdout",
     "output_type": "stream",
     "text": [
      "intercept: 0.002234746483311456 +- 0.0020497726580212846\n",
      "slope: 4.919784645862007 +- 0.014704897164154119\n",
      "R-value: 0.9999910664107999\n"
     ]
    },
    {
     "data": {
      "image/png": "[encoded data removed]",
      "text/plain": [
       "<Figure size 432x288 with 1 Axes>"
      ]
     },
     "metadata": {
      "needs_background": "light"
     },
     "output_type": "display_data"
    }
   ],
   "source": [
    "#fitting a linear regression line\n",
    "results = linregress(t_mean.squeeze()**2, h.squeeze())\n",
    "print (\"intercept:\", results.intercept,\"+-\", results.intercept_stderr)\n",
    "print (\"slope:\", results.slope,\"+-\", results.stderr)\n",
    "print(\"R-value:\", results.rvalue)\n",
    "\n",
    "#plotting a linear regression line\n",
    "plt.scatter(t_mean**2, h, c='black')\n",
    "plt.plot(t_mean.squeeze()**2, func(t_mean.squeeze()**2, results.intercept, results.slope), c='r')\n",
    "plt.legend(['Regression Line'], loc='upper left')\n",
    "plt.xlabel('$t_{mean}^2\\ (s^2)$')\n",
    "plt.ylabel('$h\\ (m)$')\n",
    "plt.grid(b=True)\n",
    "\n",
    "textstr = '\\n'.join((f'h = {round(results.slope, 4)}$t^2$ + {round(results.intercept, 4)}', \n",
    "                    f'       R_sq = {round(results.rvalue**2, 4)}'))\n",
    "plt.text(.13, .75, textstr)\n",
    "\n",
    "plt.title('Figure 7: Height $h$ vs. Squared Mean Time $t_{mean}^2$, Linear Fit')\n",
    "plt.savefig(f'fig_7.jpg')\n",
    "plt.show()"
   ]
  },
  {
   "cell_type": "markdown",
   "id": "5b191942",
   "metadata": {},
   "source": [
    "From Figure 7, the value of $g$ can be obtained through\n",
    "\n",
    "$$h = \\frac{1}{2}gt_{mean}^2,$$\n",
    "\n",
    "which compared to the Linear Fit equation (see the figure above; we ommit the intercept, since it's small compared to the slope):\n",
    "\n",
    "$$h = 4.9198t_{mean}^2$$\n",
    "\n",
    "leads to \n",
    "\n",
    "$$\\frac{1}{2}g = s\\rightarrow g = 2s.$$\n",
    "\n",
    "From this equation, the uncertainty (error) in $g$ is:\n",
    "\n",
    "$$\\Delta g = 2(\\Delta s).$$\n",
    "\n",
    "Replacing the numerical values:\n",
    "\n",
    "$$g = 2s\\rightarrow g = 2(4.9198\\ m/s^2)\\rightarrow g = 9.8396\\ m/s^2$$\n",
    "$$\\Delta g = 2(\\Delta s)\\rightarrow \\Delta g = 2(0.0147\\ m/s^2)\\rightarrow \\Delta g = 0.0294\\ m/s^2.$$\n",
    "\n",
    "Therefore, the measured value of the Gravity Acceleration is\n",
    "\n",
    "$$g = (9.8396\\pm 0.0294)\\ m/s^2.$$\n",
    "\n",
    "The Relative Uncertainty or Precision of this measurement is \n",
    "\n",
    "$$\\frac{\\Delta g}{g} = \\frac{0.0294\\ m/s^2}{9.8396\\ m/s^2}\\rightarrow \\frac{\\Delta g}{g} = 0.00299$$\n",
    "\n",
    "or\n",
    "\n",
    "$$\\frac{\\Delta g}{g} = 0.3\\%.$$"
   ]
  },
  {
   "cell_type": "markdown",
   "id": "b1fbbd7f",
   "metadata": {},
   "source": [
    "### Conclusions \n",
    "\n",
    "The experiment achieved the stated goal: to test the free fall model of motion (air friction neglected). Through the equation  $h=(gt^2)/2$ , the value of the gravity acceleration found was $g=9.84\\ m⁄s^2$,  with an uncertainty of $\\Delta g=0.03\\ m/s^2$, which set this value with a Relative uncertainty (Precision) of $\\Delta g⁄g=0.3\\%$ respect to the reference value $g_{ref}=9.81\\ m⁄s^2$, which shows a high degree of Precision in the experimental results.\n",
    "\n",
    "The measured 40 values of time for each height, followed a Normal or Gaussian distribution, it is, they were randomly distributed, hence the mean or average value can be taken as the falling time for each height, and the Standard deviation of the sample, as its uncertainty.\n",
    "\n",
    "Finally, the systematic errors were reduced to a negligible level, because the experimental $g$ resulted to be in good agreement with the accepted value, $g_{ref}=9.81\\ m⁄s^2$.\n"
   ]
  },
  {
   "cell_type": "code",
   "execution_count": null,
   "id": "5dd1bd16",
   "metadata": {},
   "outputs": [],
   "source": []
  }
 ],
 "metadata": {
  "kernelspec": {
   "display_name": "Python 3",
   "language": "python",
   "name": "python3"
  },
  "language_info": {
   "codemirror_mode": {
    "name": "ipython",
    "version": 3
   },
   "file_extension": ".py",
   "mimetype": "text/x-python",
   "name": "python",
   "nbconvert_exporter": "python",
   "pygments_lexer": "ipython3",
   "version": "3.8.8"
  }
 },
 "nbformat": 4,
 "nbformat_minor": 5
}
